{
 "cells": [
  {
   "cell_type": "markdown",
   "metadata": {},
   "source": [
    "[TOC]"
   ]
  },
  {
   "cell_type": "markdown",
   "metadata": {},
   "source": [
    "## 0. 汉诺塔问题"
   ]
  },
  {
   "cell_type": "markdown",
   "metadata": {},
   "source": [
    "![汉诺塔](./pictures/01_汉诺塔.gif)\n",
    "\n",
    "<img src='./pictures/02_hanoi.png' style='zoom:40%'/>"
   ]
  },
  {
   "cell_type": "markdown",
   "metadata": {},
   "source": [
    "当$n=2$时：  \n",
    "1. 把小圆盘从A移动到B；\n",
    "2. 把大圆盘从A移动到C；\n",
    "3. 把小圆盘从B移动到C；  \n",
    "    \n",
    "当$n>2$时： \n",
    "1. 把上面$n-1$个盘子从A经C移动到B；\n",
    "2. 把第$n$个圆盘从A移动到C；\n",
    "3. 把$n-1$个小圆盘从B经A移动到C；"
   ]
  },
  {
   "cell_type": "code",
   "execution_count": 2,
   "metadata": {},
   "outputs": [],
   "source": [
    "def hanoi(n, a, b, c):\n",
    "    '''\n",
    "    n: 剩下盘子数\n",
    "    a: 第一个柱子名\n",
    "    b: 第二个柱子名\n",
    "    c: 第三个柱子名\n",
    "    '''\n",
    "    if n > 0:\n",
    "        hanoi(n-1, a, c, b)\n",
    "        print('moving from %s to %s' % (a, c))\n",
    "        hanoi(n-1, b, a, c)"
   ]
  },
  {
   "cell_type": "code",
   "execution_count": 3,
   "metadata": {},
   "outputs": [
    {
     "name": "stdout",
     "output_type": "stream",
     "text": [
      "moving from A to C\n",
      "moving from A to B\n",
      "moving from C to B\n",
      "moving from A to C\n",
      "moving from B to A\n",
      "moving from B to C\n",
      "moving from A to C\n"
     ]
    }
   ],
   "source": [
    "hanoi(3, 'A', 'B', 'C')"
   ]
  },
  {
   "cell_type": "code",
   "execution_count": 5,
   "metadata": {},
   "outputs": [
    {
     "name": "stdout",
     "output_type": "stream",
     "text": [
      "moving from A to B\n",
      "moving from A to C\n",
      "moving from B to C\n"
     ]
    }
   ],
   "source": [
    "hanoi(2, 'A', 'B', 'C')"
   ]
  },
  {
   "cell_type": "markdown",
   "metadata": {},
   "source": [
    "## 1. 查找算法\n",
    "1.1 顺序查找  \n",
    "1.2 二分查找"
   ]
  },
  {
   "cell_type": "markdown",
   "metadata": {},
   "source": [
    "### 1.1 顺序查找（Linear Search）"
   ]
  },
  {
   "cell_type": "markdown",
   "metadata": {},
   "source": [
    "顺序查找: 也叫`线性查找`，从列表第一个元素开始，顺序进行搜索，直到找到元素或搜索到列表最后一个元素为止  \n",
    "时间复杂度：$O(n)$"
   ]
  },
  {
   "cell_type": "code",
   "execution_count": 9,
   "metadata": {},
   "outputs": [],
   "source": [
    "def linear_search(li, target):\n",
    "    for idx, val in enumerate(li):\n",
    "        if val == target:\n",
    "            return idx\n",
    "    return None"
   ]
  },
  {
   "cell_type": "code",
   "execution_count": 12,
   "metadata": {},
   "outputs": [
    {
     "name": "stdout",
     "output_type": "stream",
     "text": [
      "3\n"
     ]
    }
   ],
   "source": [
    "idx = linear_search([1,4,2,5], 5)\n",
    "print(idx)"
   ]
  },
  {
   "cell_type": "markdown",
   "metadata": {},
   "source": [
    "### 1.2 二分查找（Binary Search）"
   ]
  },
  {
   "cell_type": "markdown",
   "metadata": {},
   "source": [
    "二分查找：又叫`折半查找`，从**有序**列表的初始候选区li\\[0:n\\]开始，通过对待查找的值与候选区中间值的比较，可以使候选区减少一半。  \n",
    "时间复杂度：$O(\\log{n})$"
   ]
  },
  {
   "cell_type": "code",
   "execution_count": 1,
   "metadata": {},
   "outputs": [],
   "source": [
    "def bianry_search(li, target):\n",
    "    begin, end = 0, len(li)-1\n",
    "    while end >= begin:\n",
    "        if target == li[(begin+end)//2]:\n",
    "            return (begin+end)//2\n",
    "        elif target < li[(begin+end)//2]:\n",
    "            end = (begin+end)//2 - 1 \n",
    "        else:\n",
    "            begin = (begin+end)//2 + 1\n",
    "    return None"
   ]
  },
  {
   "cell_type": "code",
   "execution_count": 2,
   "metadata": {},
   "outputs": [
    {
     "name": "stdout",
     "output_type": "stream",
     "text": [
      "None\n",
      "3\n"
     ]
    }
   ],
   "source": [
    "idx = bianry_search([1,3,5,6,8,10], 4)\n",
    "print(idx)\n",
    "\n",
    "idx = bianry_search([1,3,5,6,8,10], 6)\n",
    "print(idx)"
   ]
  },
  {
   "cell_type": "code",
   "execution_count": 4,
   "metadata": {},
   "outputs": [],
   "source": [
    "def bin_search(li, target):\n",
    "    left, right = 0, len(li)-1\n",
    "    while left <= right:\n",
    "        mid = (left + right) >> 1\n",
    "        if target == li[mid]:\n",
    "            return mid\n",
    "        elif target < li[mid]:\n",
    "            right = mid - 1\n",
    "        else:\n",
    "            left = mid + 1\n",
    "    return None"
   ]
  },
  {
   "cell_type": "code",
   "execution_count": 13,
   "metadata": {},
   "outputs": [
    {
     "name": "stdout",
     "output_type": "stream",
     "text": [
      "[0, 0, 1, 3, 5, 5, 5, 7, 9, 9]\n",
      "3\n"
     ]
    }
   ],
   "source": [
    "import random\n",
    "\n",
    "li = [random.randint(0, 9) for _ in range(10)]\n",
    "li.sort()\n",
    "print(li)\n",
    "idx = bin_search(li, 3)\n",
    "print(idx)"
   ]
  },
  {
   "cell_type": "markdown",
   "metadata": {},
   "source": [
    "### 1.3 内置indx()函数\n",
    "内部用的是线性查找"
   ]
  },
  {
   "cell_type": "code",
   "execution_count": 70,
   "metadata": {},
   "outputs": [
    {
     "name": "stdout",
     "output_type": "stream",
     "text": [
      "3\n"
     ]
    }
   ],
   "source": [
    "li = ['a', 'v', 'd', 'g', 'b']\n",
    "idx = list.index(li, 'g')\n",
    "print(idx)"
   ]
  },
  {
   "cell_type": "code",
   "execution_count": 78,
   "metadata": {},
   "outputs": [
    {
     "name": "stdout",
     "output_type": "stream",
     "text": [
      "6\n"
     ]
    }
   ],
   "source": [
    "li = list(range(15))\n",
    "idx = list.index(li, 6)\n",
    "print(idx)"
   ]
  },
  {
   "cell_type": "markdown",
   "metadata": {},
   "source": [
    "## 2. 排序算法\n",
    "2.1 冒泡排序  \n",
    "2.2 选择排序  \n",
    "2.3 插入排序  \n",
    "2.4 快速排序  \n",
    "2.5 堆排序  \n",
    "2.6 归并排序  \n",
    "2.7 希尔排序  \n",
    "2.8 计数排序  \n",
    "2.9 基数排序  \n",
    "2.10 内置sort()"
   ]
  },
  {
   "cell_type": "markdown",
   "metadata": {},
   "source": [
    "### 2.1 冒泡排序（Bubble Sort）"
   ]
  },
  {
   "cell_type": "markdown",
   "metadata": {},
   "source": [
    "- 列表每两个相邻的数，如果前面比后面大(默认升序)，则交换这两个数；\n",
    "- 一趟排序完成后，则无序区减少一个数，有序去增加一个数。\n",
    "- 时间复杂度：$O(n^2)$ ，有两层循环"
   ]
  },
  {
   "cell_type": "code",
   "execution_count": 121,
   "metadata": {},
   "outputs": [],
   "source": [
    "def bubble_sort(li):\n",
    "    for i in range(len(li)-1): # 第i趟比较\n",
    "        for j in range(len(li)-i-1):\n",
    "            if li[j] > li[j+1]:\n",
    "                li[j], li[j+1] = li[j+1], li[j] # 交换两个元素\n",
    "    return li"
   ]
  },
  {
   "cell_type": "code",
   "execution_count": 122,
   "metadata": {},
   "outputs": [
    {
     "data": {
      "text/plain": [
       "[0, 0, 1, 2, 4, 6, 7, 8, 10]"
      ]
     },
     "execution_count": 122,
     "metadata": {},
     "output_type": "execute_result"
    }
   ],
   "source": [
    "li = bubble_sort([4,2,7,0,6,8,1,10,0])\n",
    "li"
   ]
  },
  {
   "cell_type": "markdown",
   "metadata": {},
   "source": [
    "改进1：  \n",
    "若一趟比较没有发生元素交换，则认为无序区元素已经有序，可以停止排序"
   ]
  },
  {
   "cell_type": "code",
   "execution_count": 193,
   "metadata": {},
   "outputs": [],
   "source": [
    "def bubble_sort(li):\n",
    "    for i in range(len(li)-1): # 第i趟比较\n",
    "        exchange = False # 标志位\n",
    "        for j in range(len(li)-i-1):\n",
    "            if li[j] > li[j+1]:\n",
    "                li[j], li[j+1] = li[j+1], li[j] # 交换两个元素\n",
    "                exchange = True\n",
    "        if not exchange:\n",
    "            return li\n",
    "    return li"
   ]
  },
  {
   "cell_type": "code",
   "execution_count": 197,
   "metadata": {},
   "outputs": [
    {
     "name": "stdout",
     "output_type": "stream",
     "text": [
      "[12, 32, 45, 21, 43, 30, 38, 24, 17, 3, 8, 39, 31, 44, 46, 34, 4, 35, 28, 6, 26, 48, 36, 47, 18, 19, 37, 13, 1, 49, 42, 20, 41, 7, 29, 23, 0, 14, 15, 22, 10, 16, 9, 27, 5, 40, 2, 11, 25, 33]\n",
      "[0, 1, 2, 3, 4, 5, 6, 7, 8, 9, 10, 11, 12, 13, 14, 15, 16, 17, 18, 19, 20, 21, 22, 23, 24, 25, 26, 27, 28, 29, 30, 31, 32, 33, 34, 35, 36, 37, 38, 39, 40, 41, 42, 43, 44, 45, 46, 47, 48, 49]\n"
     ]
    }
   ],
   "source": [
    "import random\n",
    "\n",
    "li = list(range(50))\n",
    "random.shuffle(li)\n",
    "print(li)\n",
    "li = bubble_sort(li)\n",
    "print(li)"
   ]
  },
  {
   "cell_type": "markdown",
   "metadata": {},
   "source": [
    "### 2.2 选择排序（Select Sort）"
   ]
  },
  {
   "cell_type": "code",
   "execution_count": 135,
   "metadata": {},
   "outputs": [],
   "source": [
    "def select_sort_simple(li):\n",
    "    sorted_li = []\n",
    "    for i in range(len(li)): # 一共n趟查找\n",
    "        min_val = min(li) # O(n)\n",
    "        sorted_li.append(min_val)\n",
    "        li.remove(min_val) # O(n)\n",
    "    return sorted_li"
   ]
  },
  {
   "cell_type": "code",
   "execution_count": 136,
   "metadata": {},
   "outputs": [
    {
     "name": "stdout",
     "output_type": "stream",
     "text": [
      "[80, 85, 35, 35, 3, 17, 14, 64, 85, 60]\n",
      "[3, 14, 17, 35, 35, 60, 64, 80, 85, 85]\n"
     ]
    }
   ],
   "source": [
    "import random\n",
    "\n",
    "li = [random.randint(0,100) for i in range(10)]\n",
    "print(li)\n",
    "print(select_sort_simple(li))"
   ]
  },
  {
   "cell_type": "markdown",
   "metadata": {},
   "source": [
    "上面的选择排序不推荐：\n",
    "1. 会新生成一个列表，占用内存空间；\n",
    "2. 虽然只有一层循环，但是min()和remove()操作都是$O(n)$，因此总的时间复杂度是$O(n^2)$"
   ]
  },
  {
   "cell_type": "code",
   "execution_count": 149,
   "metadata": {},
   "outputs": [],
   "source": [
    "def select_sort(li):\n",
    "    for i in range(len(li)-1): # 第i趟选择，共需n-1趟\n",
    "        min_idx = i\n",
    "        for j in range(i+1, len(li)):\n",
    "            if li[j] < li[min_idx]:\n",
    "                min_idx = j\n",
    "        li[i], li[min_idx] = li[min_idx], li[i]\n",
    "    return li            "
   ]
  },
  {
   "cell_type": "code",
   "execution_count": 150,
   "metadata": {},
   "outputs": [
    {
     "name": "stdout",
     "output_type": "stream",
     "text": [
      "[31, 63, 80, 87, 68, 17, 38, 24, 22, 8]\n",
      "[8, 17, 22, 24, 31, 38, 63, 68, 80, 87]\n"
     ]
    }
   ],
   "source": [
    "import random\n",
    "\n",
    "li = [random.randint(0,100) for i in range(10)]\n",
    "print(li)\n",
    "print(select_sort(li))"
   ]
  },
  {
   "cell_type": "markdown",
   "metadata": {},
   "source": [
    "### 2.3 插入排序（Insert Sort）"
   ]
  },
  {
   "cell_type": "markdown",
   "metadata": {},
   "source": [
    "1. 初始时手里（有序区）只有一张牌；\n",
    "2. 每次（从无序区）摸一张牌，插入到手里已有牌的正确位置\n",
    "3. 时间复杂度：$O(n^2)$\n",
    "\n",
    "<img src='./pictures/03_插入排序.gif' style='zoom:40%'/>"
   ]
  },
  {
   "cell_type": "code",
   "execution_count": 164,
   "metadata": {},
   "outputs": [],
   "source": [
    "def insert_sort(li):\n",
    "    for i in range(1, len(li)): #第i次插入，共需n-1次插入，从第二个元素开始，表示摸到的牌\n",
    "        tmp = li[i] # 摸到的牌\n",
    "        j = i - 1 # 从摸到的牌的前一张牌开始，进行比较和挪动\n",
    "        while j >= 0 and li[j] > tmp:\n",
    "            li[j+1] = li[j]\n",
    "            j -= 1\n",
    "        li[j+1] = tmp\n",
    "    return li           "
   ]
  },
  {
   "cell_type": "code",
   "execution_count": 167,
   "metadata": {},
   "outputs": [
    {
     "name": "stdout",
     "output_type": "stream",
     "text": [
      "[20, 16, 18, 9, 8, 1, 5, 3, 18, 12]\n",
      "[1, 3, 5, 8, 9, 12, 16, 18, 18, 20]\n"
     ]
    }
   ],
   "source": [
    "import random\n",
    "\n",
    "li = [random.randint(0,20) for i in range(10)]\n",
    "print(li)\n",
    "print(insert_sort(li))"
   ]
  },
  {
   "cell_type": "code",
   "execution_count": null,
   "metadata": {},
   "outputs": [],
   "source": [
    "import time\n",
    "\n",
    "li = list(range(10000))\n",
    "random.shuffle(li)\n",
    "begin_time = time.time()\n",
    "print(bubble_sort(li))\n",
    "end_time = time.time()\n",
    "print(end_time - begin_time)"
   ]
  },
  {
   "cell_type": "markdown",
   "metadata": {},
   "source": [
    "### 2.4 快速排序"
   ]
  },
  {
   "cell_type": "markdown",
   "metadata": {},
   "source": [
    "思想：  \n",
    "1. 取一个元素p（第一个元素），使元素p归位；\n",
    "2. 列表被p分成两部分，左边都比p小，右边都比p大；\n",
    "3. 递归完成排序。\n",
    "\n",
    "时间复杂度：$\\color{red}{n\\log n}$"
   ]
  },
  {
   "cell_type": "markdown",
   "metadata": {},
   "source": [
    "<img src='./pictures/04_quick_sort.gif' style='zoom:40%' align='left'></img>    "
   ]
  },
  {
   "cell_type": "code",
   "execution_count": 301,
   "metadata": {},
   "outputs": [],
   "source": [
    "def partition1(li, left, right):\n",
    "    '''\n",
    "    归位函数\n",
    "    '''\n",
    "    tmp = li[left] # 缓存第一个元素，也就是将第一个元素归位\n",
    "    flag = True\n",
    "    while left < right:\n",
    "        if li[right] < tmp and flag:\n",
    "            li[left] = li[right]\n",
    "            left += 1\n",
    "            flag = False\n",
    "        elif li[right] >= tmp and flag:\n",
    "            right -= 1\n",
    "        elif li[left] < tmp and not flag:\n",
    "            left += 1\n",
    "        elif li[left] >= tmp and not flag:\n",
    "            li[right] = li[left]\n",
    "            right -= 1\n",
    "            flag = True\n",
    "    li[left] = tmp\n",
    "    return left"
   ]
  },
  {
   "cell_type": "code",
   "execution_count": 335,
   "metadata": {},
   "outputs": [],
   "source": [
    "def partition(li, left, right):\n",
    "    tmp = li[left]\n",
    "    while left < right:\n",
    "        while right > left and li[right] >= tmp:\n",
    "            right -= 1\n",
    "        li[left] = li[right]\n",
    "        while left < right and li[left] <= tmp:\n",
    "            left += 1\n",
    "        li[right] = li[left]\n",
    "    li[left] = tmp\n",
    "    return left"
   ]
  },
  {
   "cell_type": "code",
   "execution_count": 336,
   "metadata": {},
   "outputs": [
    {
     "name": "stdout",
     "output_type": "stream",
     "text": [
      "[1, 10, 17, 20, 17, 12, 3, 16, 2, 6, 4, 7, 1, 5, 14]\n",
      "[1, 10, 17, 20, 17, 12, 3, 16, 2, 6, 4, 7, 1, 5, 14]\n",
      "[1, 10, 17, 20, 17, 12, 3, 16, 2, 6, 4, 7, 1, 5, 14]\n"
     ]
    }
   ],
   "source": [
    "li = [random.randint(0,20) for i in range(15)]\n",
    "li2 = li\n",
    "print(li)\n",
    "partition1(li,0,len(li)-1)\n",
    "partition(li2,0,len(li2)-1)\n",
    "print(li)\n",
    "print(li2)"
   ]
  },
  {
   "cell_type": "code",
   "execution_count": 344,
   "metadata": {},
   "outputs": [],
   "source": [
    "def _quick_sort(li, left, right):\n",
    "    '''\n",
    "    利用递归实现快速排序\n",
    "    '''\n",
    "    if left < right:\n",
    "        mid = partition(li, left, right)\n",
    "        _quick_sort(li, left, mid-1)\n",
    "        _quick_sort(li, mid+1, right)\n",
    "        \n",
    "def quick_sort(li): \n",
    "    _quick_sort(li, 0, len(li)-1)"
   ]
  },
  {
   "cell_type": "code",
   "execution_count": 345,
   "metadata": {},
   "outputs": [
    {
     "name": "stdout",
     "output_type": "stream",
     "text": [
      "[8, 9, 5, 4, 1, 6, 7, 2, 3, 0]\n",
      "[0, 1, 2, 3, 4, 5, 6, 7, 8, 9]\n"
     ]
    }
   ],
   "source": [
    "import random\n",
    "\n",
    "li = list(range(10))\n",
    "random.shuffle(li)\n",
    "print(li)\n",
    "quick_sort(li)\n",
    "print(li)"
   ]
  },
  {
   "cell_type": "code",
   "execution_count": 347,
   "metadata": {},
   "outputs": [
    {
     "name": "stdout",
     "output_type": "stream",
     "text": [
      "冒泡排序时间： 8.77525782585144\n",
      "快速排序时间： 0.024220943450927734\n"
     ]
    }
   ],
   "source": [
    "import time\n",
    "from copy import deepcopy\n",
    "\n",
    "li = list(range(10000))\n",
    "random.shuffle(li)\n",
    "\n",
    "l1 = deepcopy(li)\n",
    "l2 = deepcopy(li)\n",
    "\n",
    "begin_time = time.time()\n",
    "bubble_sort(l1)\n",
    "end_time = time.time()\n",
    "print('冒泡排序时间：', end_time - begin_time)\n",
    "\n",
    "\n",
    "begin_time = time.time()\n",
    "quick_sort(l2)\n",
    "end_time = time.time()\n",
    "print('快速排序时间：', end_time - begin_time)"
   ]
  },
  {
   "cell_type": "markdown",
   "metadata": {},
   "source": [
    "**快速排序的两个问题：**\n",
    "1. 最坏情况：\n",
    "> 当待排序列表是逆序列表时，不能很好的partition，此时时间复杂度为$O(n^2)$；  \n",
    "> **解决办法：**随机选择一个位置的元素和起始位置元素交换，开始快排\n",
    "\n",
    "2. 递归\n",
    "> python解释器为了避免内存溢出和性能影响，设置了`最大递归深度为998`，当调用栈超过998层就会报错；  \n",
    "> **解决办法：** 手动修改最大递归深度，sys.setrecursionlimit(3000)"
   ]
  },
  {
   "cell_type": "markdown",
   "metadata": {},
   "source": [
    "### 2.5 堆排序（Heap Sort）"
   ]
  },
  {
   "cell_type": "markdown",
   "metadata": {},
   "source": [
    "**树**  \n",
    "\n",
    "<img src='./pictures/05_树.jpg' style='zoom:70%'/>    "
   ]
  },
  {
   "cell_type": "markdown",
   "metadata": {},
   "source": [
    "1. 根节点：A\n",
    "2. 树的深度（高度）：4\n",
    "3. <font color=red>树的度：</font>6  `树中最多子节点的个数`\n",
    "4. 孩子节点/父节点\n",
    "5. 子树"
   ]
  },
  {
   "cell_type": "markdown",
   "metadata": {},
   "source": [
    "**二叉树**\n",
    "1. 度不超过2的树；\n",
    "2. 每个节点最多有2个孩子节点；\n",
    "3. 两个孩子节点被区分为`左孩子节点`和`右孩子节点`\n",
    "\n",
    "<img src='./pictures/06_二叉树.jpg' style='zoom:45%'/>"
   ]
  },
  {
   "cell_type": "markdown",
   "metadata": {},
   "source": [
    "**满二叉树**  \n",
    "\n",
    "一个二叉树，如果每一层的结点数都达到最大值，则这个二叉树就是满二叉树  \n",
    "\n",
    "<img src='./pictures/07_满二叉树.jpg' style='zoom:45%'/>"
   ]
  },
  {
   "cell_type": "markdown",
   "metadata": {},
   "source": [
    "**完全二叉树**  \n",
    "\n",
    "叶节点只能出现在最下层和次下层，并且最下面一层的节点都集中在该层最左边的若干位置的二叉树 \n",
    "\n",
    "<img src='./pictures/08_完全二叉树.jpg' style='zoom:70%'/>"
   ]
  },
  {
   "cell_type": "markdown",
   "metadata": {},
   "source": [
    "**二叉树的存储方式**  \n",
    "\n",
    "1. <font color=red>链式存储方式</font>\n",
    "\n",
    "2. <font color=red>顺序存储方式</font>"
   ]
  },
  {
   "cell_type": "markdown",
   "metadata": {},
   "source": [
    "**二叉树的顺序存储方式：**  \n",
    "\n",
    "<img src='./pictures/09_顺序存储二叉树.png' style='zoom:40%'/>"
   ]
  },
  {
   "cell_type": "markdown",
   "metadata": {},
   "source": [
    "1. 父节点与左孩子节点的编号下标关系：\n",
    "i --> 2i+1\n",
    "\n",
    "2. 父节点与右孩子节点的编号下标关系：\n",
    "i --> 2i+2"
   ]
  },
  {
   "cell_type": "markdown",
   "metadata": {},
   "source": [
    "**大根堆、小根堆**  \n",
    "1. 一棵`完全二叉树`，满足任一节点都比其孩子节点大；  \n",
    "1. 一棵`完全二叉树`，满足任一节点都比其孩子节点小；  \n",
    "\n",
    "<img src='./pictures/10_大根堆_小根堆.jpg' style='zoom:50%'/>"
   ]
  },
  {
   "cell_type": "markdown",
   "metadata": {},
   "source": [
    "**堆的向下调整：**  \n",
    "\n",
    "假设根节点的左右子树都是堆，但根节点不满足堆的性质，可以通过一次向下的调整来将其变成一个堆。  \n",
    "\n",
    "<img src='./pictures/11_堆的向下调整.jpg' style='zoom:50%'/>"
   ]
  },
  {
   "cell_type": "markdown",
   "metadata": {},
   "source": [
    "####  2.5.1 堆排序过程\n",
    "1. 构造堆  \n",
    "    <font color=red>从下往上构建大根堆</font>\n",
    "    \n",
    "    \n",
    "2. 挨个出数\n",
    "    - 将根节点元素拿出；\n",
    "    - <font color='DarkOrchid'>将最后一个叶节点挪到根节点位置</font>；\n",
    "    - 运用堆的向下调整，实现大根堆；\n",
    "    - 重复上面的操作，直至所有元素被排好序\n",
    "    \n",
    "**堆排序过程：**\n",
    "\n",
    "<img src='./pictures/12_堆排序.gif' style='zoom:70%' align='center'/>  \n",
    "\n",
    "**构建大根堆**  \n",
    "\n",
    "<img src='./pictures/13_堆构造.png' style='zoom:50%' align='center'/>  "
   ]
  },
  {
   "cell_type": "code",
   "execution_count": 7,
   "metadata": {},
   "outputs": [],
   "source": [
    "def sift(li, low, high):\n",
    "    '''\n",
    "    堆的向下调整\n",
    "    low: 堆的根节点位置\n",
    "    high: 堆最后一个元素位置\n",
    "    '''\n",
    "    i = low       # 根节点\n",
    "    j = 2 * i + 1 # 左子节点\n",
    "    tmp = li[i]\n",
    "    \n",
    "    while j <= high:\n",
    "        # 判断右子节点\n",
    "        if j+1 <= high and li[j+1] > li[j]: # 右子节点存在，且大于左子节点\n",
    "            j += 1\n",
    "        \n",
    "        if li[j] > tmp: # 子节点 比 根节点大\n",
    "            li[i] = li[j]\n",
    "            i = j\n",
    "            j = 2 * i + 1\n",
    "        else:\n",
    "            break\n",
    "    else:\n",
    "        li[i] = tmp"
   ]
  },
  {
   "cell_type": "markdown",
   "metadata": {},
   "source": [
    "<img src='./pictures/11_堆的向下调整.jpg' style='zoom:50%'/>"
   ]
  },
  {
   "cell_type": "code",
   "execution_count": 8,
   "metadata": {},
   "outputs": [
    {
     "name": "stdout",
     "output_type": "stream",
     "text": [
      "[9, 8, 7, 6, 5, 0, 1, 2, 4, 3]\n"
     ]
    }
   ],
   "source": [
    "li = [2,9,7,8,5,0,1,6,4,3] \n",
    "sift(li,0,len(li)-1)\n",
    "print(li)"
   ]
  },
  {
   "cell_type": "code",
   "execution_count": 9,
   "metadata": {},
   "outputs": [],
   "source": [
    "def heap_sort(li):\n",
    "    '''\n",
    "    1. 构造大根堆\n",
    "    2. 将根节点元素取出\n",
    "    3. 将最后一个叶子节点挪到根节点位置\n",
    "    4. 堆的向下调整，实现大根堆\n",
    "    5. 重复上面2~4步，直到所有元素已排好序\n",
    "    '''\n",
    "    # 1. 构造大根堆\n",
    "    n = len(li)\n",
    "    idx = (n-1-1)//2 # 获取最后一个非叶子节点编号\n",
    "    for i in range(idx, -1, -1):\n",
    "        sift(li, i, n-1) # 始终将n-1作为high\n",
    "    for i in range(n-1, 0, -1):\n",
    "        # 2. 将根节点元素取出,和第i个节点交换元素\n",
    "        li[0], li[i] = li[i], li[0]\n",
    "        # 3. 对剩下的堆进行向下调整\n",
    "        sift(li, 0, i-1)"
   ]
  },
  {
   "cell_type": "code",
   "execution_count": 10,
   "metadata": {},
   "outputs": [
    {
     "name": "stdout",
     "output_type": "stream",
     "text": [
      "[15, 12, 1, 2, 3, 7, 2, 12, 15, 6]\n",
      "[1, 2, 3, 6, 7, 7, 12, 15, 15, 15]\n",
      "\n",
      "[12, 3, 11, 7, 15, 12, 2, 13, 4]\n",
      "[2, 3, 4, 7, 11, 12, 13, 13, 15]\n"
     ]
    }
   ],
   "source": [
    "import random\n",
    "\n",
    "li = [random.randint(0, 15) for _ in range(10)]\n",
    "print(li)\n",
    "heap_sort(li)\n",
    "print(li)\n",
    "\n",
    "print()\n",
    "li = [random.randint(0, 15) for _ in range(9)]\n",
    "print(li)\n",
    "heap_sort(li)\n",
    "print(li)"
   ]
  },
  {
   "cell_type": "markdown",
   "metadata": {},
   "source": [
    "Heap Sort时间复杂度：  \n",
    "sift()的时间复杂度为$O(\\log{n})$  \n",
    "堆排序时间复杂度：$O(n\\log{n})$  "
   ]
  },
  {
   "cell_type": "markdown",
   "metadata": {},
   "source": [
    "堆的内置模块heapq"
   ]
  },
  {
   "cell_type": "code",
   "execution_count": 401,
   "metadata": {},
   "outputs": [
    {
     "name": "stdout",
     "output_type": "stream",
     "text": [
      "[11, 21, 23, 19, 8, 2, 3, 1, 7, 10, 20, 13, 5, 18, 14, 15, 0, 9, 4, 6, 12, 17, 16, 22]\n",
      "[0, 1, 2, 4, 6, 5, 3, 15, 7, 8, 16, 13, 23, 18, 14, 21, 19, 9, 11, 10, 12, 17, 20, 22]\n",
      "0, 1, 2, 3, 4, 5, 6, 7, 8, 9, 10, 11, 12, 13, 14, 15, 16, 17, 18, 19, 20, 21, 22, 23, "
     ]
    }
   ],
   "source": [
    "import heapq\n",
    "import random\n",
    "\n",
    "li = list(range(24))\n",
    "random.shuffle(li)\n",
    "print(li)\n",
    "\n",
    "# 建堆，默认是小根堆\n",
    "heapq.heapify(li)\n",
    "print(li)\n",
    "\n",
    "# 依次弹出元素\n",
    "for i in range(len(li)):\n",
    "    print(heapq.heappop(li), end=', ')\n"
   ]
  },
  {
   "cell_type": "markdown",
   "metadata": {},
   "source": [
    "#### 2.5.2 topk问题\n",
    "现有n个数，设计算法得到前k大的数。（k<n）  \n",
    "解决思路：\n",
    "1. 排序后切片：$O(n\\log{n})$\n",
    "2. 排序LowB三人组（冒泡、插入、选择）：$O(kn)$\n",
    "3. <font color=red>堆排序思路：</font>$\\color{red}{O(n\\log{k})}$\n",
    "\n",
    "**堆排序实现topk解决思路：**\n",
    "1. 取列表前k个元素建立一个小根堆，则堆顶便是目前第k大的数；\n",
    "2. 依次向后遍历原列表，对于列表中的每个元素，如果小于堆顶，则忽略该元素；如果大于堆顶，则将该元素更换为堆顶元素，并对堆进行一次调整；\n",
    "3. 遍历列表所有元素，倒序弹出堆顶。"
   ]
  },
  {
   "cell_type": "code",
   "execution_count": 1,
   "metadata": {},
   "outputs": [],
   "source": [
    "'''\n",
    "堆排序实现topk\n",
    "'''\n",
    "def sift(li, low, high):\n",
    "    '''\n",
    "    向下调整为小根堆\n",
    "    '''\n",
    "    i = low # i代表子树的根\n",
    "    j = 2 * i + 1 # 左子节点\n",
    "    tmp = li[low]\n",
    "    while j <= high:\n",
    "        if j+1 <= high and li[j+1] < li[j]:\n",
    "            j += 1 # 切到右子节点\n",
    "        if li[j] < li[i]:\n",
    "            li[i], li[j] = li[j], li[i]\n",
    "            i = j\n",
    "            j = 2 * i + 1\n",
    "        else:\n",
    "            break\n",
    "\n",
    "            \n",
    "def topk(li, k):\n",
    "    '''\n",
    "    获取li列表中前k大的数\n",
    "    '''\n",
    "    heap = li[:k]\n",
    "    \n",
    "    # 1. 取前k个元素，构建小根堆\n",
    "    i = (k - 2) // 2 # 最后一个非叶子节点\n",
    "    for j in range(i, -1, -1):\n",
    "        sift(heap, j, k-1)\n",
    "                \n",
    "    # 2. 遍历剩余len(li)-k个元素\n",
    "    for i in range(k, len(li)):\n",
    "        if li[i] > heap[0]: # 若第k个元素比堆顶元素大，则替换调\n",
    "            heap[0] = li[i]\n",
    "            sift(heap, 0 ,k-1)\n",
    "\n",
    "    # 3. 倒序取出前k个数    \n",
    "    for i in range(k-1, -1, -1):\n",
    "        heap[0], heap[i] = heap[i], heap[0]\n",
    "        sift(heap, 0, i - 1 )\n",
    "   \n",
    "    return heap"
   ]
  },
  {
   "cell_type": "code",
   "execution_count": 2,
   "metadata": {},
   "outputs": [
    {
     "name": "stdout",
     "output_type": "stream",
     "text": [
      "原列表：\n",
      "[47, 4, 0, 42, 34, 28, 6, 34, 11, 24]\n",
      "[47, 42, 34, 34]\n"
     ]
    }
   ],
   "source": [
    "import random \n",
    "\n",
    "li = [random.randint(0,50) for i in range(10)]\n",
    "# li = [25, 25, 2, 14, 1, 15, 1, 18]\n",
    "print('原列表：', li, sep='\\n')\n",
    "\n",
    "top = topk(li, 4)\n",
    "print(top)"
   ]
  },
  {
   "cell_type": "markdown",
   "metadata": {},
   "source": [
    "### 2.6 归并排序"
   ]
  },
  {
   "cell_type": "markdown",
   "metadata": {},
   "source": [
    "<img src='./pictures/14_归并排序.webp' style='zoom:100%' align='left'/>"
   ]
  },
  {
   "cell_type": "markdown",
   "metadata": {},
   "source": [
    "**归并**  \n",
    "假设现在的列表分两段有序，如何将其合成为一个有序列表？  \n",
    "\n",
    "<img src='./pictures/15_一次归并.png' style='zoom:50%'></img>\n",
    "\n",
    "\n",
    "这种操作称为一次归并"
   ]
  },
  {
   "cell_type": "code",
   "execution_count": 26,
   "metadata": {},
   "outputs": [],
   "source": [
    "def merge(li, low, mid, high):\n",
    "    '''\n",
    "    一次归并操作\n",
    "    '''\n",
    "    i = low\n",
    "    j = mid + 1\n",
    "    \n",
    "    new_li = []\n",
    "    while i <= mid:\n",
    "        if j <= high:\n",
    "            if li[i] <= li[j]:\n",
    "                new_li.append(li[i])\n",
    "                i += 1\n",
    "            else:\n",
    "                new_li.append(li[j])\n",
    "                j += 1\n",
    "        else:\n",
    "            new_li.extend(li[i:mid+1])\n",
    "            break\n",
    "    if j <= high:\n",
    "        new_li.extend(li[j:high+1])\n",
    "    # 把new_li重新写会li，后面递归会用到\n",
    "    li[low:high+1] = new_li"
   ]
  },
  {
   "cell_type": "code",
   "execution_count": 27,
   "metadata": {},
   "outputs": [
    {
     "name": "stdout",
     "output_type": "stream",
     "text": [
      "[1, 2, 3, 4, 5, 6, 7, 8, 9]\n"
     ]
    }
   ],
   "source": [
    "li = [1,3,4,6,2,5,7,8,9]\n",
    "merge(li,0,3,len(li)-1)\n",
    "print(li)"
   ]
  },
  {
   "cell_type": "markdown",
   "metadata": {},
   "source": [
    "<img src='./pictures/16_归并排序.jpg' style='zoom:40%'/>  \n",
    "\n",
    "时间复杂度：$O(n\\log{n})$   \n",
    "> 有$\\log{n}$层，每一层都需遍历，所以是$n\\log{n}$\n",
    "\n",
    "空间复杂度：$O(n)$\n",
    "> 在merge过程中有新开辟一个列表，所以归并排序不是原地排序，空间复杂度为$O(n)$"
   ]
  },
  {
   "cell_type": "code",
   "execution_count": 38,
   "metadata": {},
   "outputs": [],
   "source": [
    "def merge_sort(li, low, high):\n",
    "    '''\n",
    "    归并排序: 递归实现\n",
    "    '''\n",
    "    if low < high:\n",
    "        mid = (low + high) // 2\n",
    "        merge_sort(li, low, mid) # 左边部分\n",
    "        merge_sort(li, mid+1, high) # 右边部分\n",
    "        merge(li, low, mid, high) # 归并左右两边"
   ]
  },
  {
   "cell_type": "code",
   "execution_count": 39,
   "metadata": {},
   "outputs": [
    {
     "name": "stdout",
     "output_type": "stream",
     "text": [
      "[1, 2, 3, 4, 5, 6, 7, 8]\n"
     ]
    }
   ],
   "source": [
    "li = [8,4,5,7,1,3,6,2]\n",
    "merge_sort(li, 0, len(li)-1)\n",
    "print(li)"
   ]
  },
  {
   "cell_type": "markdown",
   "metadata": {},
   "source": [
    "### NB三人组总结\n",
    "1. 三种排序算法（快速排序、堆排序、归并排序）的时间复杂度都是$n\\log{n}$;  \n",
    "2. 一般情况下，就运行时间而言：\n",
    "    快速排序 < 归并排序 < 堆排序\n",
    "3. 三种排序算法的缺点：\n",
    "    - 快速排序：极端情况下排序效率低（比如原始列表为倒序）\n",
    "    - 归并排序：需要额外的内存开销；\n",
    "    - 堆排序：在快的排序算法中相对较慢\n",
    "\n",
    "<img src='./pictures/17_排序算法总结.jpg' style='zoom:60%'/>    \n",
    "\n",
    "快速排序空间复杂度说明：  \n",
    "> 快排中涉及到递归调用，递归调用会给函数开辟空间。快排中平均递归深度为$\\log{n}$，最坏情况递归深度为$n$\n",
    "\n",
    "稳定性说明：\n",
    "> 如果是相邻位置元素比较交换，则是稳定的，比如冒泡排序；  \n",
    "> 如果是隔着位置对元素进行比较交换，则是不稳定的，比如选择排序。0，2，4，2，1，4\n",
    "\n",
    "python内置排序是改进的归并排序，因为它是稳定的"
   ]
  },
  {
   "cell_type": "markdown",
   "metadata": {},
   "source": [
    "### 2.7 希尔排序\n",
    "\n",
    "1. 希尔排序（Shell Sort）是一种`分组插入排序`算法；\n",
    "\n",
    "2. 首先取一个整数$d_{1} = n / 2$,将元素分为$d_{1}$个组，每组相邻元素之间距离为$d_{1}$，在各组内进行直接插入排序；\n",
    "\n",
    "3. 取第二个整数$d_{2} = d_{1} / 2$,重复上述分组排序过程，直到$d_{i}=1$，即所有元素在同一组内进行直接插入排序；\n",
    "\n",
    "4. 希尔排序每趟并不使某些元素有序，而是使整体数据越来越接近有序；最后一趟排序使得所有数据有序。\n",
    "\n",
    "<img src='./pictures/18_Shell_Sort.gif' style='zoom:80%'/>    "
   ]
  },
  {
   "cell_type": "code",
   "execution_count": 44,
   "metadata": {},
   "outputs": [],
   "source": [
    "def insert_sort_gap(li, gap):\n",
    "    '''\n",
    "    分组插入排序\n",
    "    gap: 组间距\n",
    "    '''\n",
    "    for i in range(gap, len(li)):\n",
    "        tmp = li[i]\n",
    "        j = i - gap\n",
    "        while j >= 0 and li[j] >= tmp:\n",
    "            li[j+gap] = li[j] # 因为第j位置元素比tmp大，所以将该位置元素往后挪gap位\n",
    "            j -= gap\n",
    "        li[j+gap] = tmp # while终止条件1）j<0; 2)li[j]<tmp 所以需将tmp写回到li[j+gap]位置上\n",
    "\n",
    "def shell_sort(li):\n",
    "    '''\n",
    "    希尔排序\n",
    "    '''\n",
    "    gap = len(li) // 2\n",
    "    while gap >= 1:\n",
    "        insert_sort_gap(li, gap)\n",
    "        gap //= 2 "
   ]
  },
  {
   "cell_type": "code",
   "execution_count": 43,
   "metadata": {},
   "outputs": [
    {
     "name": "stdout",
     "output_type": "stream",
     "text": [
      "[0, 1, 2, 3, 4, 5, 6, 7]\n"
     ]
    }
   ],
   "source": [
    "li = [3,5,2,0,7,6,4,1]\n",
    "shell_sort(li)\n",
    "print(li)"
   ]
  },
  {
   "cell_type": "markdown",
   "metadata": {},
   "source": [
    "**希尔排序时间复杂度：**  \n",
    "希尔排序的时间复杂度与gap序列的选取有关。"
   ]
  },
  {
   "cell_type": "markdown",
   "metadata": {},
   "source": [
    "### 2.8 计数排序"
   ]
  },
  {
   "cell_type": "markdown",
   "metadata": {},
   "source": [
    "**排序前提：**  \n",
    "\n",
    "`已知列表中数据的范围`，比如都在0到100之间，设计时间复杂度为$O(n)$的算法。"
   ]
  },
  {
   "cell_type": "markdown",
   "metadata": {},
   "source": [
    "<img src='./pictures/19_计数排序.gif' style='zoom:60%'/>    "
   ]
  },
  {
   "cell_type": "code",
   "execution_count": 53,
   "metadata": {},
   "outputs": [],
   "source": [
    "def count_sort(li, max_count=100):\n",
    "    '''\n",
    "    计数排序\n",
    "    max_count: 元素的最大值\n",
    "    数值范围：[0,max_count]\n",
    "    '''\n",
    "    count = [0 for _ in range(max_count+1)]\n",
    "    \n",
    "    for val in li:\n",
    "        # 计数\n",
    "        count[val] += 1\n",
    "    \n",
    "    li.clear()\n",
    "    for idx, val in enumerate(count):\n",
    "        for i in range(val):\n",
    "            li.append(idx)"
   ]
  },
  {
   "cell_type": "code",
   "execution_count": 54,
   "metadata": {},
   "outputs": [
    {
     "name": "stdout",
     "output_type": "stream",
     "text": [
      "[3, 6, 7, 9, 20, 18, 13, 6, 2, 4, 13, 8, 13, 12, 12]\n",
      "[2, 3, 4, 6, 6, 7, 8, 9, 12, 12, 13, 13, 13, 18, 20]\n"
     ]
    }
   ],
   "source": [
    "import random\n",
    "\n",
    "li = [random.randint(0,20) for i in range(15)]\n",
    "print(li)\n",
    "count_sort(li)\n",
    "print(li)"
   ]
  },
  {
   "cell_type": "markdown",
   "metadata": {},
   "source": [
    "### 2.9 桶排序（Bucket Sort）\n",
    "\n",
    "1. 在计数排序中，如果元素的范围比较大（比如1到1亿之间），我们需要开辟一个很大的列表，如何改造算法？\n",
    "\n",
    "**桶排序（Bucket Sort）：**首先将元素分在不同的桶中，再对桶中的元素进行排序，最后按桶的顺序，依次输出所有元素，即得到有序数列。  \n",
    "\n",
    "<img src='./pictures/20_桶排序.png' style='zoom:60%'/>    "
   ]
  },
  {
   "cell_type": "code",
   "execution_count": 63,
   "metadata": {},
   "outputs": [],
   "source": [
    "def bucket_sort(li, n=100, max_num=10000):\n",
    "    '''\n",
    "    桶排序\n",
    "    n: 桶的个数\n",
    "    max_num: 最大的元素\n",
    "    '''\n",
    "    \n",
    "    # 1. 创建n个桶\n",
    "    buckets = [[] for _ in range(n)]\n",
    "    \n",
    "    for val in li:\n",
    "        # 2. 将元素依次放入对应的桶中\n",
    "        idx = min(val // (max_num // 100), n-1) # min()的作用，将max_num元素放入最后一个桶，因为索引越界了\n",
    "        buckets[idx].append(val)\n",
    "        \n",
    "        # 3. 放入的同时，对桶内元素进行插入排序\n",
    "        for i in range(len(buckets[idx])-1, 0, -1):\n",
    "            # 1,3,4,5,2\n",
    "            if buckets[idx][i-1] > buckets[idx][i]:\n",
    "                buckets[idx][i-1], buckets[idx][i] = buckets[idx][i], buckets[idx][i-1]\n",
    "            else:\n",
    "                break\n",
    "        # 4. 将所有桶中元素依次取出\n",
    "    sorted_li = []\n",
    "    for buc in buckets:\n",
    "        sorted_li.extend(buc)\n",
    "    return sorted_li "
   ]
  },
  {
   "cell_type": "code",
   "execution_count": null,
   "metadata": {},
   "outputs": [],
   "source": [
    "import random\n",
    "\n",
    "li = [random.randint(0,100000) for _ in range(10000)]\n",
    "sorted_li = bucket_sort(li, max_num=100000)\n",
    "print(sorted_li)"
   ]
  },
  {
   "cell_type": "markdown",
   "metadata": {},
   "source": [
    "**桶排序性能总结：**  \n",
    "1. 桶排序的表现取决于数据的分布。也就是需要对不同的数据排序时采用不同的分桶策略。（比方说，数据是均匀分布的，桶的大小可以一样；如果数据是正态分布的，那均值附近应分得更精细）；  \n",
    "2. 平均时间复杂度：$O(n+k)$; \n",
    "3. 最坏情况时间复杂度：$O(n^{2}k)$\n",
    "4. 空间复杂度：$O(nk)$"
   ]
  },
  {
   "cell_type": "markdown",
   "metadata": {},
   "source": [
    "### 2.10 基数排序\n",
    "\n",
    "**多关键字排序：**  \n",
    "\n",
    "比如现有一员工表，要求按照年龄排序，年龄相同的按照薪资进行排序。  \n",
    "\n",
    "**基数排序：**\n",
    "\n",
    "对数据的排序也可以看做是多关键字排序，先按个位排，然后按十位排，依次进行  \n",
    "\n",
    "<img src='./pictures/21_基数排序.gif' style='zoom:60%'/>    "
   ]
  },
  {
   "cell_type": "code",
   "execution_count": 79,
   "metadata": {},
   "outputs": [],
   "source": [
    "def radix_sort(li):\n",
    "    max_num = max(li) # 获取最大元素，决定进行几次桶排序\n",
    "    length = len(str(max_num))\n",
    "    \n",
    "    buckets = [[] for _ in range(10)] # 创建10个桶\n",
    "    \n",
    "    for i in range(length):\n",
    "        for val in li:\n",
    "            # 将元素放入对应的桶中\n",
    "            i_val = (val % (10**(i+1)))//(10**i)\n",
    "            buckets[i_val].append(val)\n",
    "        # 将桶中元素拿出\n",
    "        li.clear()\n",
    "        for buc in buckets:\n",
    "            li.extend(buc)\n",
    "            buc.clear() # 拿出后记得清空桶"
   ]
  },
  {
   "cell_type": "code",
   "execution_count": 80,
   "metadata": {},
   "outputs": [
    {
     "name": "stdout",
     "output_type": "stream",
     "text": [
      "[113, 16, 180, 89, 76, 117, 86, 135, 63, 87, 174, 110, 181, 16, 73]\n",
      "[16, 16, 63, 73, 76, 86, 87, 89, 110, 113, 117, 135, 174, 180, 181]\n"
     ]
    }
   ],
   "source": [
    "import random\n",
    "\n",
    "li = [random.randint(0,200) for _ in range(15)]\n",
    "print(li)\n",
    "\n",
    "radix_sort(li)\n",
    "print(li)"
   ]
  },
  {
   "cell_type": "markdown",
   "metadata": {},
   "source": [
    "**基数排序性能**  \n",
    "1. 时间复杂度：$O(kn)$,其中k表示最大元素的位数；\n",
    "2. 空间复杂度：$O(k+n)$\n",
    "\n",
    "与NB三人组比较：  \n",
    "$k = math.floor(math.log(10, length))$ 以10为底，length为数字的位数；  \n",
    "$n\\log{n}$，其中$\\log{n} = math.log(2,n)$ 以2为底，n为元素个数  \n",
    "\n",
    "所以，如果元素位数小，个数多，基数排序要比NB三人组快。"
   ]
  },
  {
   "cell_type": "markdown",
   "metadata": {},
   "source": [
    "## 3. 数据结构\n",
    "3.1 列表  \n",
    "3.2 栈   \n",
    "3.3 队列  \n",
    "3.4 链表  \n",
    "3.5 哈希表  \n",
    "3.6 树  "
   ]
  },
  {
   "cell_type": "markdown",
   "metadata": {},
   "source": [
    "### 3.1 数据结构介绍\n",
    "\n",
    "数据结构按照其逻辑结构可分为**线性结构**、**树结构**、**图结构**  \n",
    "- 线性结构：数据结构中的元素存在一对一的相互关系；\n",
    "- 树结构：数据结构中的元素存在一对多的关系；\n",
    "- 图结构：数据结构中的元素存在多对多的关系。"
   ]
  },
  {
   "cell_type": "markdown",
   "metadata": {},
   "source": [
    "### 3.2 列表\n",
    "\n",
    "列表（其它语言称数组）是一种基本数据类型。  \n",
    "关于列表的问题：\n",
    "- 列表中的元素是如何存储的？\n",
    "- 列表的基本操作：按下标查找、插入元素、删除元素...\n",
    "- 这些操作的时间复杂度是多少？\n",
    "- Python的列表是如何实现的？"
   ]
  },
  {
   "cell_type": "markdown",
   "metadata": {},
   "source": [
    "其它语言中的数组与列表的两点不同：  \n",
    "\n",
    "1. 数组中的元素类型必须相同，而Python中列表元素类型无限制；\n",
    "2. 创建数组时需指定长度，而Python列表无需指定长度。\n",
    "\n",
    "<img src='./pictures/22_数组与列表.png' style='zoom:50%'/>"
   ]
  },
  {
   "cell_type": "markdown",
   "metadata": {},
   "source": [
    "1. 数组连续内存空间中存的是元素，查找元素时通过计算地址值直接得到元素，因此元素类型需相同（即所占内存空间长度相同）；\n",
    "2. 列表连续内存空间中存的是元素的地址值，因而元素类型可以不相同；\n",
    "3. 按下标查找元素操作是$O(1)$;\n",
    "4. 插入和删除元素操作是$O(n)$，因为涉及挪动元素。"
   ]
  },
  {
   "cell_type": "markdown",
   "metadata": {},
   "source": [
    "### 3.3 栈"
   ]
  },
  {
   "cell_type": "markdown",
   "metadata": {},
   "source": [
    "栈（Stack）是一个数据集合，可以理解为只能在一端进行插入或删除操作的列表。  \n",
    "  \n",
    "栈的特点：后进先出LIFO（Last In，First Out）  \n",
    "  \n",
    "栈的概念: 栈顶、栈底  \n",
    "  \n",
    "栈的基本操作：\n",
    "- 进栈（压栈）：push\n",
    "- 出栈：pop\n",
    "- 取栈顶：gettop（只看不取）"
   ]
  },
  {
   "cell_type": "code",
   "execution_count": 118,
   "metadata": {},
   "outputs": [],
   "source": [
    "class Stack():\n",
    "    def __init__(self):\n",
    "        self.stack = []\n",
    "    \n",
    "    def push(self, element):\n",
    "        self.stack.append(element)\n",
    "        \n",
    "    def pop(self):\n",
    "        return self.stack.pop()\n",
    "    \n",
    "    def get_top(self):\n",
    "        if len(self.stack) > 0:\n",
    "            return self.stack[-1]\n",
    "        else:\n",
    "            return None\n",
    "        \n",
    "    def is_empty(self):\n",
    "        return len(self.stack) == 0"
   ]
  },
  {
   "cell_type": "code",
   "execution_count": 119,
   "metadata": {},
   "outputs": [
    {
     "name": "stdout",
     "output_type": "stream",
     "text": [
      "9\n",
      "9\n",
      "good\n"
     ]
    }
   ],
   "source": [
    "stack = Stack()\n",
    "stack.push(1)\n",
    "stack.push(1)\n",
    "stack.push('good')\n",
    "stack.push(9)\n",
    "\n",
    "print(stack.get_top())\n",
    "print(stack.pop())\n",
    "print(stack.get_top())"
   ]
  },
  {
   "cell_type": "markdown",
   "metadata": {},
   "source": [
    "**括号匹配问题：**  \n",
    "1. (){}\\[()\\]  匹配\n",
    "2. [(])        不匹配\n",
    "3. {})         不匹配"
   ]
  },
  {
   "cell_type": "code",
   "execution_count": 141,
   "metadata": {},
   "outputs": [],
   "source": [
    "def brace_match(string):\n",
    "    '''\n",
    "    用栈来解决括号匹配问题\n",
    "    '''\n",
    "    braces = {'}':'{',']':'[',')':'(','>':'<'}\n",
    "    stack = Stack()\n",
    "    for s in string:\n",
    "        top = stack.get_top()\n",
    "        if s in braces.values(): # 如果是左括号，直接放入栈顶\n",
    "            stack.push(s)\n",
    "            continue\n",
    "        elif stack.is_empty(): # 如果不是左括号，且栈为空，返回False\n",
    "            return False\n",
    "        elif top == braces[s]: # 如果匹配，则弹出\n",
    "            stack.pop()\n",
    "        else:\n",
    "            return False\n",
    "    if stack.is_empty():\n",
    "        return True\n",
    "    else:\n",
    "        return False"
   ]
  },
  {
   "cell_type": "code",
   "execution_count": 142,
   "metadata": {},
   "outputs": [
    {
     "name": "stdout",
     "output_type": "stream",
     "text": [
      "True\n",
      "False\n",
      "False\n",
      "True\n"
     ]
    }
   ],
   "source": [
    "s1 = '{}()'\n",
    "s2 = '[)]'\n",
    "s3 = '{(})'\n",
    "s4 = '{([{()}])}'\n",
    "print(brace_match(s1))\n",
    "print(brace_match(s2))\n",
    "print(brace_match(s3))\n",
    "print(brace_match(s4))"
   ]
  },
  {
   "cell_type": "markdown",
   "metadata": {},
   "source": [
    "### 3.4 队列\n",
    "1. 队列（Queue）是一个数据集合，仅允许在列表的一端进行插入，另一端进行删除；\n",
    "2. 进行插入的一端称为队尾（rear），插入动作称为进队或入队；\n",
    "3. 进行删除的一端称为对头（front），删除操作称为出队；\n",
    "4. 队列的性质：先进先出FIFO（First-in，First-out） \n",
    "\n",
    "<img src='./pictures/23_环形队列.jpeg' style='zoom:70%'/>"
   ]
  },
  {
   "cell_type": "markdown",
   "metadata": {},
   "source": [
    "环形队列：当队尾指针front == Maxsize - 1时，再前进一个位置就自动到0.\n",
    "- 队首指针前进1：front = (front + 1) % Maxsize\n",
    "- 队尾指针前进1：rear = (rear + 1) % Maxsize\n",
    "- 队空条件：rear == front \n",
    "- 队满条件：(rear + 1) % Maxsize == front"
   ]
  },
  {
   "cell_type": "code",
   "execution_count": 157,
   "metadata": {},
   "outputs": [],
   "source": [
    "class Queue():\n",
    "    def __init__(self, size=100):\n",
    "        self.queue = [0 for _ in range(size)]\n",
    "        self.size = size\n",
    "        self.rear = 0 # 队尾\n",
    "        self.front = 0 # 队首\n",
    "        \n",
    "    def push(self, element):\n",
    "        if (self.rear + 1) % self.size == self.front:\n",
    "            raise Exception('队已满')\n",
    "        self.rear = (self.rear + 1) % self.size\n",
    "        self.queue[self.rear] = element\n",
    "    \n",
    "    def pop(self):\n",
    "        if self.rear == self.front:\n",
    "            return None\n",
    "        self.front = (self.front + 1) % self.size\n",
    "        return self.queue[self.front]\n",
    "    \n",
    "    def is_empty(self):\n",
    "        return self.rear == self.front\n",
    "    \n",
    "    def is_full(self):\n",
    "        return (self.rear + 1) % self.size == self.front"
   ]
  },
  {
   "cell_type": "code",
   "execution_count": 163,
   "metadata": {},
   "outputs": [
    {
     "name": "stdout",
     "output_type": "stream",
     "text": [
      "0\n",
      "1\n",
      "False\n"
     ]
    }
   ],
   "source": [
    "queue = Queue(12)\n",
    "queue.push(0)\n",
    "queue.push(1)\n",
    "queue.push(2)\n",
    "queue.push(3)\n",
    "queue.push(4)\n",
    "queue.push(5)\n",
    "queue.push(6)\n",
    "queue.push(7)\n",
    "queue.push(8)\n",
    "queue.push(9)\n",
    "queue.push(10)\n",
    "# queue.push(11)\n",
    "# queue.push(12)\n",
    "\n",
    "print(queue.pop())\n",
    "print(queue.pop())\n",
    "print(queue.is_empty())"
   ]
  },
  {
   "cell_type": "markdown",
   "metadata": {},
   "source": [
    "**双向队列：**两端都支持进队和出队操作  \n",
    "  \n",
    "Python内置队列模块  \n",
    "from collections import deque  \n",
    "- 创建队列：queue = deque()\n",
    "- 进队：append()\n",
    "- 出队：popleft()\n",
    "- 双向队列首进队：appendleft()\n",
    "- 双向队列尾出队：pop()"
   ]
  },
  {
   "cell_type": "code",
   "execution_count": 166,
   "metadata": {},
   "outputs": [
    {
     "name": "stdout",
     "output_type": "stream",
     "text": [
      "12\n",
      "1024\n",
      "5\n"
     ]
    }
   ],
   "source": [
    "from collections import deque\n",
    "\n",
    "# 同时支持单向和双向队列\n",
    "queue = deque() \n",
    "\n",
    "queue.append(12) # 队尾进队\n",
    "queue.append(1024) # 队尾进队\n",
    "print(queue.popleft()) # 队首出队\n",
    "\n",
    "\n",
    "# 双向队列操作\n",
    "queue.appendleft(99) # 队首进队\n",
    "print(queue.pop()) # 队尾出队\n",
    "\n",
    "# 当队列满了后，deque会自动将队首元素出队\n",
    "queue2 = deque([1,2,3,4,5,6,7,8,9], 5)\n",
    "print(queue2.popleft())"
   ]
  },
  {
   "cell_type": "markdown",
   "metadata": {},
   "source": [
    "**迷宫问题：**  \n",
    "\n",
    "<img src='./pictures/24_迷宫问题.jpg' style='zoom:50%'/>"
   ]
  },
  {
   "cell_type": "markdown",
   "metadata": {},
   "source": [
    "**栈——深度优先搜索算法**  \n",
    "  \n",
    "1. 又叫`回朔法`\n",
    "2. 思路：从一个节点开始，任意找下一个能走的点，当找不到能走的点时，退回上一个点寻找是否有其它方向的点。\n",
    "3. 使用栈存储当前路径。"
   ]
  },
  {
   "cell_type": "code",
   "execution_count": 183,
   "metadata": {},
   "outputs": [],
   "source": [
    "maze = [\n",
    "    [1,1,1,1,1,1,1,1,1,1],\n",
    "    [1,0,0,1,0,0,0,1,0,1],\n",
    "    [1,0,0,1,0,0,0,1,0,1],\n",
    "    [1,0,0,0,0,1,1,0,0,1],\n",
    "    [1,0,1,1,1,0,0,0,0,1],\n",
    "    [1,0,0,0,1,0,0,0,0,1],\n",
    "    [1,0,1,0,0,0,1,0,0,1],\n",
    "    [1,0,1,1,1,0,1,1,0,1],\n",
    "    [1,1,0,0,0,0,0,0,0,1],\n",
    "    [1,1,1,1,1,1,1,1,1,1],\n",
    "]\n",
    "\n",
    "def path_search(x1,y1,x2,y2):\n",
    "    '''\n",
    "    x1,y1: 起始点坐标\n",
    "    x2,y2: 终点坐标\n",
    "    '''\n",
    "    stack = []\n",
    "    stack.append((x1,y1))\n",
    "    \n",
    "    px = x1\n",
    "    py = y1\n",
    "    \n",
    "    while px != x2 or py != y2:\n",
    "        # 按 上——>右——>下——>左 的步骤搜索\n",
    "        if maze[px-1][py] != 1 and (px-1, py) not in stack:\n",
    "            px -= 1\n",
    "            stack.append((px, py))\n",
    "        elif maze[px][py+1] != 1 and (px, py+1) not in stack:\n",
    "            py += 1\n",
    "            stack.append((px, py))\n",
    "        elif maze[px+1][py] != 1 and (px+1, py) not in stack:\n",
    "            px += 1\n",
    "            stack.append((px, py))\n",
    "        elif maze[px][py-1] != 1 and (px, py-1) not in stack:\n",
    "            py -= 1\n",
    "            stack.append((px, py))\n",
    "        else:\n",
    "            maze[px][py] = 1\n",
    "            stack.pop()\n",
    "            px, py = stack[-1]\n",
    "        if px == x1 and py == y1:\n",
    "            raise Exception('No path available！')\n",
    "    return stack"
   ]
  },
  {
   "cell_type": "code",
   "execution_count": 184,
   "metadata": {},
   "outputs": [
    {
     "name": "stdout",
     "output_type": "stream",
     "text": [
      "[(1, 1), (1, 2), (2, 2), (3, 2), (3, 1), (4, 1), (5, 1), (5, 2), (5, 3), (6, 3), (6, 4), (6, 5), (5, 5), (4, 5), (4, 6), (4, 7), (3, 7), (3, 8), (4, 8), (5, 8), (6, 8), (7, 8), (8, 8)]\n"
     ]
    }
   ],
   "source": [
    "maze = [\n",
    "    [1,1,1,1,1,1,1,1,1,1],\n",
    "    [1,0,0,1,0,0,0,1,0,1],\n",
    "    [1,0,0,1,0,0,0,1,0,1],\n",
    "    [1,0,0,0,0,1,1,0,0,1],\n",
    "    [1,0,1,1,1,0,0,0,0,1],\n",
    "    [1,0,0,0,1,0,0,0,0,1],\n",
    "    [1,0,1,0,0,0,1,0,0,1],\n",
    "    [1,0,1,1,1,0,1,1,0,1],\n",
    "    [1,1,0,0,0,0,0,0,0,1],\n",
    "    [1,1,1,1,1,1,1,1,1,1],\n",
    "]\n",
    "\n",
    "print(path_search(1,1,8,8))"
   ]
  },
  {
   "cell_type": "markdown",
   "metadata": {},
   "source": [
    "**队列——广度优先搜索**  \n",
    "\n",
    "广度优先搜索的路径是最短的。  \n",
    "\n",
    "<img src='./pictures/25_迷宫问题_队列解决.jpg' style='zoom:45%'/>"
   ]
  },
  {
   "cell_type": "code",
   "execution_count": 240,
   "metadata": {},
   "outputs": [],
   "source": [
    "from collections import deque\n",
    "\n",
    "maze = [\n",
    "    [1,1,1,1,1,1,1,1,1,1],\n",
    "    [1,0,0,1,0,0,0,1,0,1],\n",
    "    [1,0,0,1,0,0,0,1,0,1],\n",
    "    [1,0,0,0,0,1,1,0,0,1],\n",
    "    [1,0,1,1,1,0,0,0,0,1],\n",
    "    [1,0,0,0,1,0,0,0,0,1],\n",
    "    [1,0,1,0,0,0,1,0,0,1],\n",
    "    [1,0,1,1,1,0,1,1,0,1],\n",
    "    [1,1,0,0,0,0,0,0,0,1],\n",
    "    [1,1,1,1,1,1,1,1,1,1],\n",
    "]\n",
    "\n",
    "\n",
    "dirs = [\n",
    "        lambda x,y:(x-1, y), # 上\n",
    "        lambda x,y:(x, y+1), # 右\n",
    "        lambda x,y:(x+1, y), # 下\n",
    "        lambda x,y:(x, y-1) # 左\n",
    "    ]\n",
    "\n",
    "def output_path(path):\n",
    "    '''\n",
    "    输出路径\n",
    "    '''\n",
    "    node = path[-1] # 取出终点\n",
    "    out_path = []\n",
    "    \n",
    "    while node[2] != -1:\n",
    "        out_path.append(node[0:2])\n",
    "        node = path[node[2]]\n",
    "    \n",
    "    out_path.append(path[0][0:2])\n",
    "    \n",
    "    out_path.reverse()\n",
    "    \n",
    "    return out_path\n",
    "        \n",
    "\n",
    "def maze_path(x1,y1,x2,y2):\n",
    "    '''\n",
    "    x1,y1: 起始点坐标\n",
    "    x2,y2: 终点坐标\n",
    "    '''\n",
    "    \n",
    "    queue = deque() # 记录搜索到的最新结点 \n",
    "    queue.append((x1, y1, -1)) # 把起点加入队列, 第3个元素表示该节点的上一节点在path中的索引\n",
    "    path = [] # 记录历史路径的列表\n",
    "       \n",
    "    while len(queue) != 0: # 只要队列里还有值，就代表还有路可走\n",
    "        cur_node = queue.popleft() # 取出当前节点\n",
    "        path.append(cur_node) # 将当前节点放入历史路径列表中\n",
    "        if cur_node[0] == x2 and cur_node[1] == y2: # 表示已走到终点\n",
    "            output = output_path(path)\n",
    "            return output\n",
    "        for next_node in dirs:\n",
    "            next_x, next_y = next_node(cur_node[0], cur_node[1])\n",
    "            if maze[next_x][next_y] == 0: # 路是通的\n",
    "                # 将next_node节点入队\n",
    "                queue.append((next_x, next_y, len(path)-1))\n",
    "                # 将next_node标记为已走过\n",
    "                maze[next_x][next_y] = 2\n",
    "    else:\n",
    "        raise Exception('无路可走了！')"
   ]
  },
  {
   "cell_type": "code",
   "execution_count": 241,
   "metadata": {},
   "outputs": [
    {
     "name": "stdout",
     "output_type": "stream",
     "text": [
      "(1, 1)\n",
      "(2, 1)\n",
      "(3, 1)\n",
      "(4, 1)\n",
      "(5, 1)\n",
      "(5, 2)\n",
      "(5, 3)\n",
      "(6, 3)\n",
      "(6, 4)\n",
      "(6, 5)\n",
      "(7, 5)\n",
      "(8, 5)\n",
      "(8, 6)\n",
      "(8, 7)\n",
      "(8, 8)\n"
     ]
    }
   ],
   "source": [
    "path = maze_path(1,1,8,8)\n",
    "for p in path:\n",
    "    print(p)"
   ]
  },
  {
   "cell_type": "markdown",
   "metadata": {},
   "source": [
    "### 3.5 链表\n",
    "\n",
    "链表是由一系列节点组成的元素的集合。每个节点包含两部分，数据域item和指向下一节点的指针next。通过节点之间的相互连接，最终串成一个链表。 \n",
    "\n",
    "<img src='./pictures/26_链表.jpg' style='zoom:100%'/>"
   ]
  },
  {
   "cell_type": "code",
   "execution_count": 246,
   "metadata": {},
   "outputs": [],
   "source": [
    "class Node():\n",
    "    def __init__(self, item):\n",
    "        self.item = item\n",
    "        self.next = None"
   ]
  },
  {
   "cell_type": "code",
   "execution_count": 251,
   "metadata": {},
   "outputs": [
    {
     "name": "stdout",
     "output_type": "stream",
     "text": [
      "11\n",
      "22\n",
      "33\n"
     ]
    }
   ],
   "source": [
    "node1 = Node(11)\n",
    "node2 = Node(22)\n",
    "node3 = Node(33)\n",
    "\n",
    "node1.next = node2\n",
    "node2.next = node3\n",
    "\n",
    "print(node1.item)\n",
    "print(node1.next.item)\n",
    "print(node1.next.next.item)"
   ]
  },
  {
   "cell_type": "markdown",
   "metadata": {},
   "source": [
    "#### 3.5.1 链表的创建和遍历\n",
    "**头插法和尾插法：**  \n",
    "\n",
    "<img src='./pictures/27_头插法和尾插法.png' style='zoom:50%'/>"
   ]
  },
  {
   "cell_type": "code",
   "execution_count": 260,
   "metadata": {},
   "outputs": [],
   "source": [
    "def creat_linklist_head(li):\n",
    "    '''\n",
    "    头插法创建链表,\n",
    "    遍历链表得到的是倒序的\n",
    "    '''\n",
    "    head = Node(li[0])\n",
    "    \n",
    "    for ele in li[1:]:\n",
    "        node = Node(ele)\n",
    "        node.next = head\n",
    "        head = node\n",
    "    return head\n",
    "\n",
    "def creat_linklist_tail(li):\n",
    "    '''\n",
    "    尾插法创建链表\n",
    "    遍历链表得到的是倒序的\n",
    "    '''\n",
    "    head = Node(li[0])\n",
    "    tail = head\n",
    "    \n",
    "    for ele in li[1:]:\n",
    "        node = Node(ele)\n",
    "        tail.next = node\n",
    "        tail = node\n",
    "    return head\n",
    "\n",
    "def print_linklist(head):\n",
    "    '''\n",
    "    遍历打印链表\n",
    "    '''\n",
    "    while head and head.next:\n",
    "        print(head.item, end = ', ')\n",
    "        head = head.next\n",
    "    else:\n",
    "        print(head.item)"
   ]
  },
  {
   "cell_type": "code",
   "execution_count": 261,
   "metadata": {},
   "outputs": [
    {
     "name": "stdout",
     "output_type": "stream",
     "text": [
      "6, 5, 4, 3, 2, 1\n",
      "1, 2, 3, 4, 5, 6\n"
     ]
    }
   ],
   "source": [
    "lk = creat_linklist_head([1,2,3,4,5,6])\n",
    "print_linklist(lk)\n",
    "\n",
    "lk = creat_linklist_tail([1,2,3,4,5,6])\n",
    "print_linklist(lk)"
   ]
  },
  {
   "cell_type": "markdown",
   "metadata": {},
   "source": [
    "#### 3.5.2 链表的插入和删除\n",
    "\n",
    "<img src='./pictures/28_链表的插入和删除.png' style='zoom:50%'/>"
   ]
  },
  {
   "cell_type": "code",
   "execution_count": 263,
   "metadata": {},
   "outputs": [],
   "source": [
    "def insert_node(cur_node, new_node):\n",
    "    '''\n",
    "    在cur_node之后插入新节点new_node\n",
    "    '''\n",
    "    new_node.next = cur_node.next\n",
    "    cur_node.next = new_node\n",
    "    \n",
    "def del_node(cur_node):\n",
    "    '''\n",
    "    将cur_node的后一节点从链表中删除\n",
    "    '''\n",
    "    p = cur_node.next\n",
    "    cur_node.next = p.next\n",
    "    del p"
   ]
  },
  {
   "cell_type": "code",
   "execution_count": 266,
   "metadata": {},
   "outputs": [
    {
     "name": "stdout",
     "output_type": "stream",
     "text": [
      "1, 2, 3, 4, 5, 6, 7\n",
      "1, 2, 88, 3, 4, 5, 6, 7\n",
      "1, 2, 3, 4, 5, 6, 7\n"
     ]
    }
   ],
   "source": [
    "lk = creat_linklist_tail([1,2,3,4,5,6,7])\n",
    "print_linklist(lk)\n",
    "\n",
    "cur_node = lk.next\n",
    "\n",
    "new_node = Node(88)\n",
    "insert_node(cur_node, new_node)\n",
    "print_linklist(lk)\n",
    "\n",
    "del_node(cur_node)\n",
    "print_linklist(lk)"
   ]
  },
  {
   "cell_type": "markdown",
   "metadata": {},
   "source": [
    "#### 3.5.3 链表总结\n",
    "\n",
    "|   操作   |   顺序表   |   链表   |\n",
    "| ---- | ---- | ---- |\n",
    "|   按元素查找   | <img width=100/>  $O(n)$   |  <img width=100/> $O(n)$   |\n",
    "|   按下标查找   |   $O(1)$   |   $O(n)$   |\n",
    "|   在某元素后插入   |   $O(n)$   |   $O(1)$   |\n",
    "|   删除某元素   |   $O(n)$   |   $O(1)$   |\n",
    "\n",
    "1. 链表的插入和删除操作明显优于顺序表；\n",
    "2. 链表的内存空间可以更灵活的分配。"
   ]
  },
  {
   "cell_type": "markdown",
   "metadata": {},
   "source": [
    "### 3.6 哈希表（散列表）\n",
    "哈希表是一个通过`哈希函数`来计算数据存储位置的数据结构，通常支持如下操作：\n",
    "- insert(key, value)\n",
    "- get(key)\n",
    "- delete(key)\n",
    "\n",
    "**直接寻址表：** \n",
    "\n",
    "U是所有可能key的集合  \n",
    "\n",
    "<img src='./pictures/29_直接寻址表.jpeg' style='zoom:100%'/>  "
   ]
  },
  {
   "cell_type": "markdown",
   "metadata": {},
   "source": [
    "直接寻址技术缺点：\n",
    "1. 当域$U$很大时，创建$T$列表需要大量内存，很不实际；\n",
    "2. 如果$U$很大，而实际$K$很少，则大量空间被浪费；\n",
    "3. 无法处理关键字不是数字的情况。\n",
    "\n",
    "改进直接寻址表：<font color=red>哈希（Hashing）</font>\n",
    "- 构建大小为$m$的寻址表$T$;\n",
    "- key为k的元素放到$h(k)$位置上；\n",
    "- $h(k)$是一个函数，其将域$U$映射到表T\\[0, 1, ..., m-1\\]\n",
    "\n",
    "**哈希表**  \n",
    "\n",
    "1. 哈希表（Hash Table, 又称散列表），是一种线性表的存储结构。哈希表由一个<font color=red>直接寻址表</font>和一个<font color=red>哈希函数</font>组成。哈希函数$h(k)$将关键字k作为自变量，返回元素的存储下标。\n",
    "\n",
    "2. 假如有一个长度为7的哈希表，哈希函数 h(k) = k%7. 元素集合{14, 22, 3, 5}的存储方式如下图：\n",
    "\n",
    "<img src='./pictures/30_哈希表示例.png' style='zoom:70%'/>  "
   ]
  },
  {
   "cell_type": "markdown",
   "metadata": {},
   "source": [
    "**<font color=red>哈希冲突</font>**\n",
    "1. 哈希表的大小是有限的，而要存的值的总数量是无限的，因此对于任何哈希函数，都会出现两个不同元素映射到同一位置的情况，称为哈希冲突；\n",
    "2. 比如 h(k)=k%7 ,h(0)=h(7)=h(14)=...\n",
    "\n",
    "**解决哈希冲突——开放寻址法**  \n",
    "\n",
    "如果哈希函数返回的位置已经有值，则可以向后探查新的位置来存储这个值。\n",
    "- 线性探查：如果位置i被占用，则依次向后探查i+1, i+2, ...直到找到空位，进行存储；\n",
    "- 二次探查：如果位置i被占用，则探查i+1², i-1², i+2², i-2², ...\n",
    "- 二度哈希：有n个哈希函数，当使用第1个哈希函数n1发生冲突时，则尝试使用h2, h3, ...\n",
    "  \n",
    "\n",
    "**解决哈希冲突——拉链法**  \n",
    "\n",
    "哈希表每个位置都连接一个链表，当冲突发生时，冲突元素将被加到该位置链表的最后。  \n",
    "\n",
    "<img src='./pictures/31_哈希冲突_拉链法.jpeg' style='zoom:70%'/>"
   ]
  },
  {
   "cell_type": "code",
   "execution_count": 284,
   "metadata": {},
   "outputs": [],
   "source": [
    "class Linklist():\n",
    "    class Node():\n",
    "        def __init__(self, item):\n",
    "            self.item = item\n",
    "            self.next = None\n",
    "            \n",
    "    class LinklistIterator():\n",
    "        def __init__(self, node):\n",
    "            self.node = node\n",
    "            \n",
    "        def __next__(self):\n",
    "            if self.node:\n",
    "                cur_node = self.node\n",
    "                self.node = cur_node.next\n",
    "                return cur_node.item\n",
    "            else:\n",
    "                raise StopIteration\n",
    "        def __iter__(self):\n",
    "            return self\n",
    "    \n",
    "    def __init__(self, iterable=None):\n",
    "        self.head = None\n",
    "        self.tail = None\n",
    "        if iterable:\n",
    "            self.extend(iterable)\n",
    "            \n",
    "    def extend(self, iterable):\n",
    "        for obj in iterable:\n",
    "            self.append(obj)\n",
    "    \n",
    "    def append(self, obj):\n",
    "        node = Linklist.Node(obj)\n",
    "        if not self.head: # 链表为空\n",
    "            self.head = node\n",
    "            self.tail = node\n",
    "        else: # 追加节点\n",
    "            self.tail.next = node\n",
    "            self.tail = node\n",
    "    \n",
    "    def find(self, obj):\n",
    "        for n in self:\n",
    "            if n == obj:\n",
    "                return True\n",
    "        else:\n",
    "            return False\n",
    "    \n",
    "    def __iter__(self):\n",
    "        return self.LinklistIterator(self.head)\n",
    "\n",
    "    def __repr__(self):\n",
    "        return \"<\" + \", \".join(map(str, self)) + \">\""
   ]
  },
  {
   "cell_type": "code",
   "execution_count": 285,
   "metadata": {},
   "outputs": [
    {
     "name": "stdout",
     "output_type": "stream",
     "text": [
      "<1, 2, 3, 4, 5>\n"
     ]
    }
   ],
   "source": [
    "lk = Linklist([1, 2, 3, 4, 5])\n",
    "print(lk)"
   ]
  },
  {
   "cell_type": "code",
   "execution_count": 286,
   "metadata": {},
   "outputs": [],
   "source": [
    "class HashTable():\n",
    "    \n",
    "    def __init__(self, size=101):\n",
    "        self.size = size\n",
    "        self.T = [Linklist() for _ in range(size)]\n",
    "    \n",
    "    def h(self, k):\n",
    "        return k % self.size\n",
    "    \n",
    "    def insert(self, k):\n",
    "        h = self.h(k)\n",
    "        # 不能重复插入\n",
    "        if self.find(k):\n",
    "            raise Exception('不能重复插入')\n",
    "        else:\n",
    "            self.T[h].append(k)\n",
    "    \n",
    "    def find(self, k):\n",
    "        h = self.h(k)\n",
    "        return self.T[h].find(k)"
   ]
  },
  {
   "cell_type": "code",
   "execution_count": 290,
   "metadata": {},
   "outputs": [
    {
     "name": "stdout",
     "output_type": "stream",
     "text": [
      "[<0, 101>, <>, <>, <>, <4>, <>, <>, <>, <>, <>, <>, <>, <>, <>, <>, <>, <>, <>, <>, <>, <>, <>, <>, <>, <>, <>, <>, <>, <>, <>, <>, <>, <>, <>, <>, <>, <>, <>, <>, <>, <>, <>, <>, <>, <>, <>, <>, <>, <>, <>, <>, <>, <>, <>, <>, <>, <>, <>, <>, <>, <>, <>, <>, <>, <>, <>, <>, <>, <>, <>, <>, <>, <>, <>, <>, <>, <>, <>, <>, <>, <>, <>, <>, <>, <>, <>, <>, <>, <>, <>, <>, <>, <>, <>, <>, <>, <>, <>, <>, <>, <>]\n",
      "True\n",
      "False\n"
     ]
    }
   ],
   "source": [
    "table = HashTable()\n",
    "\n",
    "table.insert(0)\n",
    "table.insert(101)\n",
    "table.insert(4)\n",
    "# table.insert(4)\n",
    "\n",
    "print(table.T)\n",
    "\n",
    "print(table.find(0))\n",
    "print(table.find(1))"
   ]
  },
  {
   "cell_type": "markdown",
   "metadata": {},
   "source": [
    "**哈希表的应用——md5算法**  \n",
    "  \n",
    "MD5(Message-Digest Algorithm 5)**曾经**是密码学中常用的哈希函数，可以把任意长度的数据映射为128位的哈希值，其曾经包含如下特征：\n",
    "- 同样的消息，其MD5值必定相同；\n",
    "- 可以快速计算出任意给定消息的MD5值；\n",
    "- 除非暴力枚举，否则不能根据哈希值反推出消息本身；\n",
    "- 两条消息之间即使只有微小的差别，其对应的MD5值也应是完全不同，完全不相关的；\n",
    "- 不能在有意义的时间内人工构造两个不同的消息，使得其具有相同的MD5值。\n",
    "\n",
    "应用举例: 文件的哈希值  \n",
    "算出两个文件的哈希值，若两个文件的哈希值相同，则可认为这两个文件是相同的（哈希值相同，文件不同的概率太太太低），因此：\n",
    "- 用户可以利用它来验证下载的文件是否完整；\n",
    "- 云存储服务商可以利用它来判断用户要上传的文件是否已存在服务器上，从而实现秒传的功能，同时避免存储过多相同文件的副本。\n",
    "\n",
    "\n",
    "**哈希表的应用——SHA2算法**  \n",
    "1. 历史上MD5和SHA-1曾经是使用最为广泛的cryptographic hash function，但是随着密码学的发展，这两个哈希函数的安全性相继受到了各种挑战。\n",
    "2. 因此现在安全性较重要的场合<font color=red>推荐使用SHA-2</font>等新的更安全的哈希函数；\n",
    "3. SHA-2包含了一系列的哈希函数：SHA-224, SHA-256, SHA-384, SHA-512, SHA-512/224, SHA-512/256, 其对应的哈希值长度分别为224，256，384或512位。\n",
    "4. SHA-2具有和MD5类似的性质。"
   ]
  },
  {
   "cell_type": "markdown",
   "metadata": {},
   "source": [
    "### 3.7 树\n",
    "#### 3.7.1 二叉树\n",
    "\n",
    "二叉树的链式存储：将二叉树的节点定义为一个对象，节点之间通过类似链表的连接方式来连接。  \n",
    "\n",
    "<font color=red>因为二叉树可能不是完全二叉树，因此用列表存储不方便</font>\n",
    "\n",
    "<img src='./pictures/32_二叉树链式存储.jpeg' style='zoom:50%'/>"
   ]
  },
  {
   "cell_type": "code",
   "execution_count": 291,
   "metadata": {},
   "outputs": [
    {
     "name": "stdout",
     "output_type": "stream",
     "text": [
      "D\n"
     ]
    }
   ],
   "source": [
    "class BiTreeNode():\n",
    "    def __init__(self, data):\n",
    "        self.data = data\n",
    "        self.lchild = None\n",
    "        self.rchild = None\n",
    "\n",
    "a  = BiTreeNode('A')\n",
    "b  = BiTreeNode('B')\n",
    "c  = BiTreeNode('C')\n",
    "d  = BiTreeNode('D')\n",
    "e  = BiTreeNode('E')\n",
    "f  = BiTreeNode('F')\n",
    "g  = BiTreeNode('G')\n",
    "\n",
    "a.lchild = b\n",
    "a.rchild = f\n",
    "b.lchild = c\n",
    "b.rchild = d\n",
    "f.rchild = g\n",
    "d.lchild = e\n",
    "\n",
    "print(a.lchild.rchild.data)"
   ]
  },
  {
   "cell_type": "markdown",
   "metadata": {},
   "source": [
    "#### 3.7.2 二叉树的遍历\n",
    "\n",
    "<img src='./pictures/32_二叉树链式存储.jpeg' style='zoom:40%'/>  \n",
    "\n",
    "二叉树的遍历方式：\n",
    "- 前序遍历：ABCDEFG 根-左-右\n",
    "- 中序遍历：CBEDAFG 左-根-右\n",
    "- 后续遍历：CEDBGFA 左-右-根\n",
    "- 层次遍历：ABFCDGE"
   ]
  },
  {
   "cell_type": "code",
   "execution_count": 307,
   "metadata": {},
   "outputs": [],
   "source": [
    "def pre_order(root):\n",
    "    '''\n",
    "    前序遍历\n",
    "    '''\n",
    "    if root:\n",
    "        print(root.data, end=', ')\n",
    "        pre_order(root.lchild)\n",
    "        pre_order(root.rchild)\n",
    "    \n",
    "def in_order(root):\n",
    "    '''\n",
    "    中序遍历\n",
    "    '''\n",
    "    if root:\n",
    "        in_order(root.lchild)\n",
    "        print(root.data, end=', ')\n",
    "        in_order(root.rchild)\n",
    "        \n",
    "def post_order(root):\n",
    "    '''\n",
    "    后序遍历\n",
    "    '''\n",
    "    if root:\n",
    "        post_order(root.lchild)\n",
    "        post_order(root.rchild)\n",
    "        print(root.data, end=', ')\n",
    "\n",
    "from collections import deque\n",
    "\n",
    "def level_order(root):\n",
    "    '''\n",
    "    层次遍历\n",
    "    '''\n",
    "    queue = deque()\n",
    "    queue.append(root)\n",
    "    \n",
    "    while len(queue) > 0:\n",
    "        cur_node = queue.popleft()\n",
    "        print(cur_node.data, end=', ')\n",
    "        if cur_node.lchild:\n",
    "            queue.append(cur_node.lchild)\n",
    "        if cur_node.rchild:\n",
    "            queue.append(cur_node.rchild)"
   ]
  },
  {
   "cell_type": "code",
   "execution_count": 308,
   "metadata": {},
   "outputs": [
    {
     "name": "stdout",
     "output_type": "stream",
     "text": [
      "A, B, C, D, E, F, G, \n",
      "C, B, E, D, A, F, G, \n",
      "C, E, D, B, G, F, A, \n",
      "A, B, F, C, D, G, E, "
     ]
    }
   ],
   "source": [
    "pre_order(a)\n",
    "print()\n",
    "in_order(a)\n",
    "print()\n",
    "post_order(a)\n",
    "print()\n",
    "level_order(a)"
   ]
  },
  {
   "cell_type": "markdown",
   "metadata": {},
   "source": [
    "#### 3.7.3 二叉搜索树\n",
    "\n",
    "二叉搜索树时一个二叉树且满足性质：  \n",
    "> 设X是二叉树的一个节点。  \n",
    "> 如果Y是X的左子树上的一个节点，那么Y.key <= X.key;   \n",
    "> 如果Y是X的右子树上的一个节点，那么Y.key >= X.key; \n",
    "\n",
    "<img src='./pictures/33_搜索二叉树.jpeg' style='zoom:50%'/>  "
   ]
  },
  {
   "cell_type": "code",
   "execution_count": 379,
   "metadata": {},
   "outputs": [],
   "source": [
    "class BiTreeNode():\n",
    "    \n",
    "    def __init__(self, data):\n",
    "        self.data = data\n",
    "        self.lchild = None\n",
    "        self.rchild = None\n",
    "        self.parent = None\n",
    "\n",
    "class BST():\n",
    "    '''\n",
    "    二叉搜索树\n",
    "    '''\n",
    "    \n",
    "    def __init__(self, iterable):\n",
    "        self.root = None\n",
    "        if iterable:\n",
    "            for val in iterable:\n",
    "                self.insert_no_cur(val)\n",
    "    \n",
    "    # 递归方式插入(不太好理解)\n",
    "    def insert(self, node, val):\n",
    "        if not node: # 比如对于上图，要插入0，1的左节点为空，需创建一个node\n",
    "            node = BiTreeNode(val)\n",
    "        elif val < node.data:\n",
    "            node.lchild = insert(node.lchild, val)\n",
    "            node.lchild.parent = node\n",
    "        elif val > node.data:\n",
    "            node.rchild = insert(node.rchild, val)\n",
    "            node.rchild.parent = node\n",
    "        return node\n",
    "    \n",
    "    # 不用递归实现插入\n",
    "    def insert_no_cur(self, val):\n",
    "        if not self.root:\n",
    "            # 空二叉搜索树，则初始化根节点\n",
    "            self.root = BiTreeNode(val)\n",
    "            return\n",
    "        node = self.root\n",
    "        while True:\n",
    "            if val < node.data:\n",
    "                if not node.lchild: # 左子节点为空\n",
    "                    child_node = BiTreeNode(val)\n",
    "                    node.lchild = child_node\n",
    "                    child_node.parent = node\n",
    "                    return\n",
    "                else:\n",
    "                    node = node.lchild\n",
    "                    continue\n",
    "            elif val > node.data:\n",
    "                if not node.rchild:\n",
    "                    child_node = BiTreeNode(val)\n",
    "                    node.rchild = child_node\n",
    "                    child_node.parent = node\n",
    "                    return\n",
    "                else:\n",
    "                    node = node.rchild\n",
    "                    continue\n",
    "            else:\n",
    "                return\n",
    "    \n",
    "    def __query(self, node, val):\n",
    "        '''\n",
    "        递归查询\n",
    "        '''\n",
    "        if not node:\n",
    "            return None\n",
    "        elif val == node.data:\n",
    "            return node\n",
    "        elif val < node.data:\n",
    "            return self.__query(node.lchild, val)\n",
    "        elif val > node.data:\n",
    "            return self.__query(node.rchild, val)\n",
    "    \n",
    "    def query(self, val):\n",
    "        '''\n",
    "        递归查询\n",
    "        '''\n",
    "        return self.__query(self.root, val)\n",
    "    \n",
    "    def __remove_leaf(self, node):\n",
    "        '''\n",
    "        情况一：删除叶子节点\n",
    "        '''\n",
    "        if not node.parent: # 根节点\n",
    "            self.root = None\n",
    "        elif node == node.parent.lchild: # \n",
    "            node.parent.lchild = None\n",
    "        elif node == node.parent.rchild:\n",
    "            node.parent.rchild = None\n",
    "    \n",
    "    def __remove_node_with_single_child(self, node):\n",
    "        '''\n",
    "        情况二：要删除的节点只有一个孩子节点\n",
    "        '''\n",
    "        if not node.parent: # 要删除的节点是根节点\n",
    "            if node.lchild:\n",
    "                self.root = node.lchild\n",
    "            elif node.rchild:\n",
    "                self.root = node.rchild\n",
    "            self.root.parent = None\n",
    "        elif node == node.parent.lchild:\n",
    "            if node.lchild:\n",
    "                node.parent.lchild = node.lchild\n",
    "                node.lchild.parent = node.parent\n",
    "            else:\n",
    "                node.parent.lchild = node.rchild\n",
    "                node.rchild.parent = node.parent\n",
    "        elif node == node.parent.rchild:\n",
    "            if node.lchild:\n",
    "                node.parent.rchild = node.lchild\n",
    "                node.lchild.parent = node.parent\n",
    "            else:\n",
    "                node.parent.rchild = node.rchild\n",
    "                node.rchild.parent = node.parent\n",
    "       \n",
    "\n",
    "    def remove(self, val):\n",
    "        '''\n",
    "        删除节点\n",
    "        '''\n",
    "        if not self.root: # 代表空树\n",
    "            return\n",
    "        \n",
    "        node = self.query(val) # 查询要删除的节点\n",
    "        if not node: # 要删除的节点不存在\n",
    "            raise Exception('Error key!')\n",
    "        \n",
    "        # 情况1：node是叶子节点\n",
    "        if not node.lchild and not node.rchild:\n",
    "            self.__remove_leaf(node)\n",
    "        # 情况2：node节点只有一个孩子    \n",
    "        elif (node.lchild and not node.rchild) or (not node.lchild and node.rchild):\n",
    "            self.__remove_node_with_single_child(node)\n",
    "        \n",
    "        # 情况3：node有两个子树\n",
    "        else:\n",
    "            # 找该节点右子树最小节点（一直往左找）\n",
    "            node_tmp = node.rchild\n",
    "            while node_tmp.lchild:\n",
    "                node_tmp = node_tmp.lchild\n",
    "            \n",
    "            # 数据替换到要删除的节点\n",
    "            node.data = node_tmp.data\n",
    "            \n",
    "            # 将右子树最小节点删除\n",
    "            if node_tmp.rchild:\n",
    "                self.__remove_node_with_single_child(node_tmp)\n",
    "            else:\n",
    "                self.__remove_leaf(node_tmp)\n",
    " \n",
    "    def in_order(self, root):\n",
    "        '''\n",
    "        中序遍历\n",
    "        '''\n",
    "        if root:\n",
    "            self.in_order(root.lchild)\n",
    "            print(root.data, end=' ')\n",
    "            self.in_order(root.rchild)\n",
    "        "
   ]
  },
  {
   "cell_type": "code",
   "execution_count": 384,
   "metadata": {},
   "outputs": [
    {
     "name": "stdout",
     "output_type": "stream",
     "text": [
      "root = 8\n",
      "1 3 4 6 7 8 10 13 14 \n",
      "None None 13\n",
      "\n",
      "1 3 4 7 8 10 13 14 "
     ]
    }
   ],
   "source": [
    "import random\n",
    "\n",
    "bst = BST([8,3,10,1,6,4,7,13,14,])\n",
    "print('root =', bst.root.data)\n",
    "\n",
    "# 中序遍历\n",
    "bst.in_order(bst.root)\n",
    "print()\n",
    "\n",
    "# 查询\n",
    "print(bst.query(11), bst.query(5),bst.query(13).data)\n",
    "print()\n",
    "\n",
    "# 删除节点\n",
    "# bst.remove(1)\n",
    "bst.remove(6)\n",
    "bst.in_order(bst.root)"
   ]
  },
  {
   "cell_type": "markdown",
   "metadata": {},
   "source": [
    "**二叉搜索树节点删除：**  \n",
    "1. 若是叶子节点，直接删除；\n",
    "2. 若要删除的节点只有一个孩子，则将它的parent和child直接相连；\n",
    "3. 若要删除的节点是根节点，则将右子树最小节点替换到该位置上。\n",
    "\n",
    "**二叉搜索树的效率：**  \n",
    "1. 平均情况下，二叉搜索树进行搜索的时间复杂度为$O(\\log{n})$;\n",
    "2. <font color=blue>最坏情况下，二叉搜索树可能非常偏斜，这样时间复杂度接近线性；</font>\n",
    "3. 接近方案：\n",
    "    - 随机化插入\n",
    "    - AVL树"
   ]
  },
  {
   "cell_type": "markdown",
   "metadata": {},
   "source": [
    "#### 3.7.4 AVL树\n",
    "\n",
    "AVL树：是一棵自平衡的二叉搜索树。\n",
    "1. 根的左右子树的高度差的绝对值不能超过1；\n",
    "2. 根的左右子树都是平衡二叉树。\n",
    "\n",
    "<img src='./pictures/34_AVL树.png' style='zoom:50%'/>"
   ]
  },
  {
   "cell_type": "markdown",
   "metadata": {},
   "source": [
    "**AVL树插入：**  \n",
    "1. 插入一个节点可能会破坏AVL树的平衡，可以通过<font color=blue>旋转</font>操作来进行修正。  \n",
    "\n",
    "2. 插入一个节点后，只有从插入节点到根节点的路径上的节点的平衡可能被改变。我们需要找出第一个平衡条件被破坏的节点，称之为K。K的两棵子树高度差为2.\n",
    "\n",
    "<img src='./pictures/35_AVL旋转.gif' style='zoom:50%'/>\n",
    "\n",
    "3. 不平衡的出现可能有4中情况：\n",
    "\n",
    "<img src='./pictures/36_LL旋转.png' style='zoom:50%'/>\n",
    "<img src='./pictures/37_RR旋转.png' style='zoom:50%'/>\n",
    "<img src='./pictures/38_LR旋转.png' style='zoom:50%'/>\n",
    "<img src='./pictures/39_RL旋转.png' style='zoom:50%'/>"
   ]
  },
  {
   "cell_type": "code",
   "execution_count": 433,
   "metadata": {},
   "outputs": [],
   "source": [
    "class AVLNode(BiTreeNode):\n",
    "    \n",
    "    def __init__(self, data):\n",
    "        BiTreeNode.__init__(self, data)\n",
    "        self.bf = 0 # 平衡因子\n",
    "        \n",
    "class AVLTree(BST):\n",
    "    \n",
    "    def __init__(self, li=None):\n",
    "        BST.__init__(self, li)\n",
    "        \n",
    "    def rotate_left(self, k1, k2):\n",
    "        '''\n",
    "                     k1                                             k2\n",
    "              n1            k2                              k1              n3       \n",
    "                         n2     n3                      n1      n2          new\n",
    "                                new                     \n",
    "        '''\n",
    "        k1.lchild = k2.lchild\n",
    "        if k2.lchild:\n",
    "            k2.lchild.parent = k1\n",
    "        \n",
    "        k2.lchild = k1\n",
    "        k1.parent = k2\n",
    "        \n",
    "        # 更新bf（balance factor）\n",
    "        k1.bf = 0\n",
    "        k2.bf = 0\n",
    "        return k2\n",
    "    \n",
    "    def rotate_right(self, k2, k1):\n",
    "        '''\n",
    "                     k2                               k1\n",
    "              k1           n1                 n2              k2       \n",
    "          n2     n3                          new          n3       n1\n",
    "         new\n",
    "        '''\n",
    "        k2.lchild = k1.rchild\n",
    "        if k1.rchild:\n",
    "            k1.rchild.parent = k2\n",
    "        \n",
    "        k2.parent = k1\n",
    "        k1.rchild = k2\n",
    "        \n",
    "        # 更新bf\n",
    "        k1.bf = 0\n",
    "        k2.bf = 0\n",
    "        return k1\n",
    "    \n",
    "    def rotate_left_right(self, k3, k1):\n",
    "        '''\n",
    "                      k3             |              k3            |         k2        \n",
    "               k1            D       |        k2           D      |    k1        k3  \n",
    "          A        k2                |     k1     C               |  A    B    C    D\n",
    "                  B  C               |    A  B                    |\n",
    "        '''\n",
    "        k2 = k1.rchild\n",
    "        \n",
    "        \n",
    "        # 先对k1子树进行左旋转\n",
    "        k2 = self.rotate_left(k1, k2)\n",
    "        \n",
    "        k3.lchild = k2\n",
    "        k2.parent = k3\n",
    "\n",
    "        # 再对k3树进行右旋转\n",
    "        k3 = self.rotate_right(k3, k2)\n",
    "        \n",
    "        # 更新bf\n",
    "        # case1: k2节点后插入B\n",
    "        if k2.lchild:\n",
    "            k1.bf = 0\n",
    "            k3.bf = 1\n",
    "        elif k2.rchild:\n",
    "            k1.bf = -1\n",
    "            k3.bf = 0\n",
    "        else: # 此时没有A、B、C、D节点，只是插入k2导致k3的平衡被破坏\n",
    "            k1.bf = 0\n",
    "            k3.bf = 0\n",
    "  \n",
    "        return k3\n",
    "    \n",
    "    def rotate_right_left(self, k1, k3):\n",
    "        '''\n",
    "                 k1                   |         k1                   |         k2        \n",
    "          A              k3           |    A          k2             |    k1        k3  \n",
    "                     k2      D        |            B      k3         |  A    B    C    D\n",
    "                   B    C             |                 C     D      |\n",
    "        '''\n",
    "        k2 = k3.lchild\n",
    "        \n",
    "        \n",
    "        # 先对k3子树进行右旋转\n",
    "        k2 = self.rotate_right(k3, k2)\n",
    "        \n",
    "        k1.rchild = k2\n",
    "        k2.parent = k1\n",
    "\n",
    "        # 再对k1树进行左旋转\n",
    "        k3 = self.rotate_left(k1, k2)\n",
    "        \n",
    "        # 更新bf\n",
    "        if k2.lchild: # case1: k2节点后插入的是B\n",
    "            k1.bf = 0\n",
    "            k3.bf = 1\n",
    "        elif k2.rchild: # case2: k2节点后插入的是C\n",
    "            k1.bf = -1\n",
    "            k3.bf = 0\n",
    "        else: # case3: 此时没有A、B、C、D节点，只是插入k2导致k3的平衡被破坏\n",
    "            k1.bf = 0\n",
    "            k3.bf = 0\n",
    "  \n",
    "        return k2\n",
    "     \n",
    "        \n",
    "    def insert_no_cur(self, val):\n",
    "        #================1.插入val==================\n",
    "        if not self.root:\n",
    "            # 空二叉搜索树，则初始化根节点\n",
    "            self.root = AVLNode(val)\n",
    "            return\n",
    "        node = self.root\n",
    "        while True:\n",
    "            if val < node.data:\n",
    "                if not node.lchild: # 左子节点为空，则创建一个左子节点\n",
    "                    child_node = AVLNode(val)\n",
    "                    node.lchild = child_node\n",
    "                    child_node.parent = node\n",
    "                else: # 若左子节点不为None, 则将左子节点作为根，与val进行比较\n",
    "                    node = node.lchild\n",
    "                    continue\n",
    "            elif val > node.data:\n",
    "                if not node.rchild:\n",
    "                    child_node = AVLNode(val)\n",
    "                    node.rchild = child_node\n",
    "                    child_node.parent = node  \n",
    "                else:\n",
    "                    node = node.rchild\n",
    "                    continue\n",
    "            else: # 若插入的值与已有节点相同，不做任何处理\n",
    "                return\n",
    "        \n",
    "        #================2.更新bf==================\n",
    "        # node 为插入节点的父节点\n",
    "        while child_node.parent: # 直到更新到根节点位置，也就是节点的parent为None为止\n",
    "            if child_node == node.lchild: # 从node的左边插入child_node\n",
    "                node.bf -= 1 # 更新后的node.bf要么等于0，要么等于-1\n",
    "                if node.bf == 0: # 也就是新插入节点不会导致树的失衡\n",
    "                    break\n",
    "                else: # 继续向上更新bf\n",
    "                    parent_node = node.parent\n",
    "                    if node == parent_node.lchild: # 说明新插入是left-left形式，要进行右旋\n",
    "                        parent_node.bf -= 1 # 更新后的bf只可能是-2, -1, 0三种情况\n",
    "                        if parent_node.bf == 0: # 平衡了，不用再往上更新\n",
    "                            return\n",
    "                        elif parent_node.bf == -1: # 继续往上更新\n",
    "                            child_node = node\n",
    "                            node = node.parent\n",
    "                            continue\n",
    "                        elif parent_node.bf == -2: # 进行右旋\n",
    "                            root_node = self.rotate_left(node, child_node)\n",
    "                    else: # 说明新插入是right-left，要进行左-右旋转\n",
    "                        parent_node.bf += 1\n",
    "                        if parent_node.bf == 0:\n",
    "                            return\n",
    "                        elif parent_node.bf == 1:\n",
    "                            child_node = node\n",
    "                            node = node.parent\n",
    "                            continue\n",
    "                        elif parent_node.bf == 2:\n",
    "                            root_node = self.rotate_left_right(parent_node, node)\n",
    "            else: # 从node的右边插入child_node \n",
    "                node.bf += 1\n",
    "                if node.bf == 0:\n",
    "                    break\n",
    "                else: # 继续向上更新\n",
    "                    parent_node = node.parent\n",
    "                    if node == parent_node.node.lchild: # 说明新插入是right-left形式\n",
    "                        parent_noder.bf -= 1\n",
    "                        if parent_node.bf == 0:\n",
    "                            return\n",
    "                        elif parent_node.bf == -1:\n",
    "                            child_node = node\n",
    "                            node = parent_node\n",
    "                            continue\n",
    "                        else: # 进行右-左旋转\n",
    "                            root_node = self.rotate_right_left(parent, node)\n",
    "            \n",
    "        #================3. 连接旋转后的子树==================\n",
    "        up_node = parent_node.parent\n",
    "        if up_node:\n",
    "            if parent_node == up_node.lchild:\n",
    "                up_node.lchild = root_node\n",
    "                root_node.parent = up_node\n",
    "            else:\n",
    "                up_node.rchild = root_node\n",
    "                root_node.parent = up_node\n",
    "        else:\n",
    "            self.root = root_node\n",
    "            return\n",
    "        \n",
    "    def in_order(self, root):\n",
    "        '''\n",
    "        中序遍历\n",
    "        '''\n",
    "        if root:\n",
    "            self.in_order(root.lchild)\n",
    "            print(root.data, end=' ')\n",
    "            self.in_order(root.rchild)"
   ]
  },
  {
   "cell_type": "code",
   "execution_count": 434,
   "metadata": {},
   "outputs": [
    {
     "name": "stdout",
     "output_type": "stream",
     "text": [
      "\n",
      "11 "
     ]
    }
   ],
   "source": [
    "import random\n",
    "\n",
    "tree = AVLTree(random.shuffle([i for i in range(1,11)]))\n",
    "tree.in_order(tree.root)\n",
    "print()\n",
    "tree.insert_no_cur(11)\n",
    "tree.in_order(tree.root)"
   ]
  },
  {
   "cell_type": "markdown",
   "metadata": {},
   "source": [
    "#### 3.7.5 二叉搜索树扩展应用——B树\n",
    "B树（B-Tree）:B树是一棵自平衡的多路搜索树。通常用于数据库的索引。 \n",
    "\n",
    "<img src='./pictures/40_B树.png' style='zoom:50%'/>  \n",
    "\n",
    "因为数据库数据时分块存在硬盘上的，AVL树虽然查询效率也很高，但它是二路平衡树，树的高度为$\\log{_{2}(n)}$，而B树是多路平衡树，可以大大降低树的高度，加快搜索效率。"
   ]
  },
  {
   "cell_type": "markdown",
   "metadata": {},
   "source": [
    "## 4. 贪心算法\n",
    "1. 贪心算法（又称贪婪算法）是指，在对问题求解时，总是做出在当前看来是最好的选择。也就是说，不从整体最优上加以考虑，他所做出的是在某种意义上的局部最优解。\n",
    "2. 贪心算法并不保证会得到最优解，但是在某些问题上贪心算法的解就是最优解。要会判断一个问题能否用贪心算法来计算。"
   ]
  },
  {
   "cell_type": "markdown",
   "metadata": {},
   "source": [
    "### 4.1 找零问题\n",
    "假设商店老板需要找零n元钱，钱币的面额有：100元、50元、20元、5元、1元，如何找零使得所需钱币的数量最少？"
   ]
  },
  {
   "cell_type": "code",
   "execution_count": 397,
   "metadata": {},
   "outputs": [],
   "source": [
    "money = [100, 50, 20, 5, 1]\n",
    "\n",
    "def change(li, n):\n",
    "    num = [0 for _ in range(len(li))]\n",
    "    \n",
    "    for idx, m in enumerate(money):\n",
    "        num[idx] = n // m\n",
    "        n %= m\n",
    "    return num"
   ]
  },
  {
   "cell_type": "code",
   "execution_count": 398,
   "metadata": {},
   "outputs": [
    {
     "data": {
      "text/plain": [
       "[3, 0, 1, 0, 1]"
      ]
     },
     "execution_count": 398,
     "metadata": {},
     "output_type": "execute_result"
    }
   ],
   "source": [
    "change(money, 321)"
   ]
  },
  {
   "cell_type": "markdown",
   "metadata": {},
   "source": [
    "### 4.2 背包问题\n",
    "一个小偷在某个商店发现有n个商品，第i个商品价值$\\text{v}_{i}$元，重$\\text{w}_{i}$千克。他希望拿走的价值尽量高，但他的背包最多只能容纳W千克的东西。他应该拿走哪些商品？  \n",
    "- **0-1背包：** 对于一个商品，小偷要么把它完整拿走，那么留下。不能只拿走一部分，或把一个商品拿走多次。（商品为金条）\n",
    "- **分数背包：** 对于一个商品，小偷可以拿走其中任意一部分。（商品为金砂）\n",
    "\n",
    "明显，贪心算法求解分数背包得到的是最优解。而0-1背包问题，则不一定。"
   ]
  },
  {
   "cell_type": "code",
   "execution_count": 403,
   "metadata": {},
   "outputs": [],
   "source": [
    "'''\n",
    "商品1：v1=60,  w1=10\n",
    "商品2：v2=100, w2=20\n",
    "商品3：v3=120, w3=30\n",
    "背包容量：W=50\n",
    "'''\n",
    "\n",
    "def factional_backpack(goods, W):\n",
    "    num = [0 for _ in range(len(goods))]\n",
    "    total_value = 0\n",
    "    for idx, (price, weight) in enumerate(goods):\n",
    "        if W >= weight:\n",
    "            num[idx] = 1\n",
    "            total_value += price\n",
    "            W -= weight\n",
    "        else:\n",
    "            num[idx] = W / weight\n",
    "            total_value += price * W / weight\n",
    "            break\n",
    "    return num, total_value"
   ]
  },
  {
   "cell_type": "code",
   "execution_count": 408,
   "metadata": {},
   "outputs": [
    {
     "name": "stdout",
     "output_type": "stream",
     "text": [
      "[1, 1, 0.6666666666666666]\n",
      "240.0\n",
      "[1, 1, 1]\n",
      "280\n"
     ]
    }
   ],
   "source": [
    "goods = [(60, 10), (120, 30),(100, 20)]\n",
    "goods.sort(key=lambda x:x[0]/x[1], reverse=True)\n",
    "\n",
    "num, total_value = factional_backpack(goods, 50)\n",
    "print(num)\n",
    "print(total_value)\n",
    "\n",
    "num, total_value = factional_backpack(goods, 100)\n",
    "print(num)\n",
    "print(total_value)"
   ]
  },
  {
   "cell_type": "markdown",
   "metadata": {},
   "source": [
    "### 4.3 数字拼接问题\n",
    "有n个非负整数，将其按照字符串拼接的方式拼接为一个整数。如何拼接可以使得到的整数最大？例：\n",
    "> 32, 94, 128, 1286, 6, 71可以拼接的最大整数为：94716321286128"
   ]
  },
  {
   "cell_type": "code",
   "execution_count": 427,
   "metadata": {},
   "outputs": [],
   "source": [
    "def num_join(li):\n",
    "    \n",
    "    li = list(map(str, li))\n",
    "    \n",
    "    # 同冒泡排序\n",
    "    for i in range(len(li)-1):\n",
    "        for j in range(i+1, len(li)):\n",
    "            if li[i] + li[j] < li[j] + li[i]:\n",
    "                li[i], li[j] = li[j], li[i]\n",
    "   \n",
    "    return ''.join(li)"
   ]
  },
  {
   "cell_type": "code",
   "execution_count": 428,
   "metadata": {},
   "outputs": [
    {
     "name": "stdout",
     "output_type": "stream",
     "text": [
      "94716321286128\n"
     ]
    }
   ],
   "source": [
    "li = [32, 94, 128, 1286, 6, 71]\n",
    "num = num_join(li)\n",
    "print(num)"
   ]
  },
  {
   "cell_type": "markdown",
   "metadata": {},
   "source": [
    "### 4.4 活动选择问题\n",
    "假设有n个活动，这些活动要占用同一块场地，而场地在某时刻只能供一个活动使用。    \n",
    "  \n",
    "每个活动都有一个开始时间si和结束时间fi（题目中时间以整数表示），表示活动在\\[si, fi\\}区间占用场地。  \n",
    "  \n",
    "问：安排哪些活动能够使该场地举办的活动个数最多？  \n",
    "\n",
    "<img src='./pictures/41_活动选择问题.jpg' style='zoom:50%'/>  \n",
    "\n",
    "贪心结论：<font color=blue>最先结束的活动一定是最优解的一部分</font>  \n",
    "  \n",
    "证明：假设a是所有活动中最先结束的活动，b是最优解中最先结束的多动。\n",
    "- 如果a = b, 结论成立；\n",
    "- 如果a ≠ b, 则b的结束时间一定晚于a，则此时用a替换掉b，a一定不与最优解中的其它活动时间重叠，因此替换掉b后也是最优解。"
   ]
  },
  {
   "cell_type": "code",
   "execution_count": 430,
   "metadata": {},
   "outputs": [],
   "source": [
    "activations = [(1,4),(3,5),(0,6),(5,7),(3,9),(5,9),(6,10),(8,11),(8,12),(2,14),(12,16)]\n",
    "# 首先按活动结束时间进行排序\n",
    "activations.sort(key=lambda x:x[1])\n",
    "\n",
    "def act_selection(activations):\n",
    "    act = [activations[0]]\n",
    "    for i in range(1, len(activations)):\n",
    "        # 若时间不重叠，则加入\n",
    "        if activations[i][0] >= act[-1][1]:\n",
    "            act.append(activations[i])\n",
    "    return act"
   ]
  },
  {
   "cell_type": "code",
   "execution_count": 431,
   "metadata": {},
   "outputs": [
    {
     "name": "stdout",
     "output_type": "stream",
     "text": [
      "[(1, 4), (5, 7), (8, 11), (12, 16)]\n"
     ]
    }
   ],
   "source": [
    "print(act_selection(activations))"
   ]
  },
  {
   "cell_type": "markdown",
   "metadata": {},
   "source": [
    "## 5. 动态规划"
   ]
  },
  {
   "cell_type": "code",
   "execution_count": 452,
   "metadata": {},
   "outputs": [],
   "source": [
    "'''\n",
    "递归实现斐波那契数列，会出现子问题重复计算问题\n",
    "'''\n",
    "def fibonacci(n):\n",
    "    if n == 1 or n == 2:\n",
    "        return 1\n",
    "    else:\n",
    "        return fibonacci(n-2) + fibonacci(n-1)\n",
    "    \n",
    "def fibonacci_no_cur(n):\n",
    "    val = [0,1,1]\n",
    "    if n > 2:\n",
    "        for i in range(n-2):\n",
    "            num = val[-1] + val[-2]\n",
    "            val.append(num)\n",
    "        return val[-1]\n",
    "    else:\n",
    "        return val[n]"
   ]
  },
  {
   "cell_type": "code",
   "execution_count": 456,
   "metadata": {},
   "outputs": [
    {
     "name": "stdout",
     "output_type": "stream",
     "text": [
      "9227465\n",
      "递归实现： 2.176862955093384\n",
      "9227465\n",
      "非递归实现： 6.580352783203125e-05\n"
     ]
    }
   ],
   "source": [
    "import time\n",
    "\n",
    "start = time.time()\n",
    "print(fibonacci(35))\n",
    "print('递归实现：', time.time()-start)\n",
    "\n",
    "start = time.time()\n",
    "print(fibonacci_no_cur(35))\n",
    "print('非递归实现：', time.time()-start)"
   ]
  },
  {
   "cell_type": "markdown",
   "metadata": {},
   "source": [
    "**动态规划(DP)** = <font color=red>递推式</font> + 重复子问题"
   ]
  },
  {
   "cell_type": "markdown",
   "metadata": {},
   "source": [
    "### 5.1 钢条切割问题\n",
    "\n",
    "<img src='./pictures/42_钢条切割问题.jpg' style='zoom:50%'/>  \n",
    "\n",
    "<img src='./pictures/43_钢条切割问题2.jpg' style='zoom:50%'/>  "
   ]
  },
  {
   "cell_type": "markdown",
   "metadata": {},
   "source": [
    "钢条切割问题的递推式1： \n",
    "\n",
    "<img src='./pictures/44_钢条切割问题_递推式1.jpg' style='zoom:50%'/>  "
   ]
  },
  {
   "cell_type": "markdown",
   "metadata": {},
   "source": [
    "**<font color=red>最优子结构</font>**  \n",
    "\n",
    "1. 可以将求解规模为n的原问题，划分为规模更小的子问题：完成一次切割后，可以将产生的两段钢条看成两个独立的钢条切割问题。  \n",
    "  \n",
    "2. 组合两个子问题的最优解，并在所有可能的两段切割方案中选取组合收益最大的，构成原问题的最优解；\n",
    "\n",
    "3. 钢条切割满足**最优子结构：** 问题的最优解由相关子问题的最优解组合而成，这些子问题可以独立求解。\n",
    "\n",
    "钢条切割问题的递推式2：  \n",
    "\n",
    "<img src='./pictures/45_钢条切割问题_递推式2.jpg' style='zoom:50%'/>  "
   ]
  },
  {
   "cell_type": "code",
   "execution_count": 61,
   "metadata": {},
   "outputs": [],
   "source": [
    "'''\n",
    "递归实现递推式1\n",
    "'''\n",
    "def cut_rod_cur(p, n):\n",
    "    if n == 0: # 长度为0\n",
    "        return 0\n",
    "    else:\n",
    "        pn = p[n-1]\n",
    "        for i in range(1, n):\n",
    "            pn = max(pn, cut_rod_cur(p, i) + cut_rod_cur(p, n-i))\n",
    "        return pn\n",
    "\n",
    "'''\n",
    "递归实现递推式2\n",
    "'''\n",
    "def cut_rod_cur2(p, n):\n",
    "    if n == 0: # 长度为0\n",
    "        return 0\n",
    "    else:\n",
    "        max_val = 0\n",
    "        for i in range(0, n):\n",
    "            max_val = max(max_val, p[i] + cut_rod_cur2(p, n-i-1))\n",
    "        return max_val\n",
    "            "
   ]
  },
  {
   "cell_type": "code",
   "execution_count": 62,
   "metadata": {},
   "outputs": [
    {
     "name": "stdout",
     "output_type": "stream",
     "text": [
      "45\n",
      "递推公式1： 1.8961639404296875\n",
      "45\n",
      "递推公式2： 0.013830184936523438\n"
     ]
    }
   ],
   "source": [
    "p = [1,5,8,9,10,17,17,20,24,30,32,36,40,42,44,48,50]\n",
    "\n",
    "import time\n",
    "\n",
    "start = time.time()\n",
    "print(cut_rod_cur(p,15))\n",
    "print('递推公式1：', time.time() - start)\n",
    "\n",
    "start = time.time()\n",
    "print(cut_rod_cur2(p,15))\n",
    "print('递推公式2：', time.time() - start)"
   ]
  },
  {
   "cell_type": "markdown",
   "metadata": {},
   "source": [
    "**自顶向下递归实现：**  \n",
    "上面两个实现都是自顶向下的实现方式，效率很差，时间复杂度是$O(2^{n})$  \n",
    "  \n",
    "**动态规划的思想：**  \n",
    "- 每个子问题只求解一遍，保存求解结果；\n",
    "- 之后需要此问题，只需查找保存的结果。"
   ]
  },
  {
   "cell_type": "code",
   "execution_count": 67,
   "metadata": {},
   "outputs": [],
   "source": [
    "'''\n",
    "动态规划思想实现递推式2，也就是自底向上\n",
    "'''\n",
    "def cut_rod_dp(p, n):\n",
    "    ri = [0] # ri的临时存放表\n",
    " \n",
    "    for i in range(1, n+1): # 求ri，i从1到n\n",
    "        tmp = 0\n",
    "        for j in range(0, i): # r从1到n-i\n",
    "            tmp = max(tmp, p[j] + ri[i-j-1])\n",
    "        ri.append(tmp)\n",
    "    return ri[n]"
   ]
  },
  {
   "cell_type": "markdown",
   "metadata": {},
   "source": [
    "时间复杂度：$O(n^{2})$"
   ]
  },
  {
   "cell_type": "code",
   "execution_count": 69,
   "metadata": {},
   "outputs": [
    {
     "name": "stdout",
     "output_type": "stream",
     "text": [
      "45\n",
      "递推公式1： 1.9533970355987549\n",
      "45\n",
      "递推公式2： 0.014536857604980469\n",
      "45\n",
      "DP实现： 9.179115295410156e-05\n"
     ]
    }
   ],
   "source": [
    "p = [1,5,8,9,10,17,17,20,24,30,32,36,40,42,44,48,50]\n",
    "\n",
    "import time\n",
    "\n",
    "start = time.time()\n",
    "print(cut_rod_cur(p,15))\n",
    "print('递推公式1：', time.time() - start)\n",
    "\n",
    "start = time.time()\n",
    "print(cut_rod_cur2(p,15))\n",
    "print('递推公式2：', time.time() - start)\n",
    "\n",
    "start = time.time()\n",
    "print(cut_rod_dp(p, 15))\n",
    "print('DP实现：', time.time()-start)"
   ]
  },
  {
   "cell_type": "markdown",
   "metadata": {},
   "source": [
    "**钢条切割问题——重构解：**  \n",
    "\n",
    "<img src='./pictures/46_钢条切割问题_重构解.jpg' style='zoom:40%'/>"
   ]
  },
  {
   "cell_type": "code",
   "execution_count": 81,
   "metadata": {},
   "outputs": [],
   "source": [
    "'''\n",
    "重构解\n",
    "'''\n",
    "def cut_rod_extend(p, n):\n",
    "    ri = [0] # ri的临时存放表\n",
    "    si = [0] # ri对应最优值对应切割方案中左边一段的长度\n",
    " \n",
    "    for i in range(1, n+1): # 求ri，i从1到n\n",
    "        tmp_r = 0\n",
    "        tmp_s = 0\n",
    "        for j in range(0, i): # r从1到n-i\n",
    "            if p[j] + ri[i-j-1] > tmp_r:\n",
    "                tmp_r = p[j] + ri[i-j-1]\n",
    "                tmp_s = j + 1\n",
    "        ri.append(tmp_r)\n",
    "        si.append(tmp_s)\n",
    "    return ri[n], si\n",
    "\n",
    "def cut_rod_solution(p, n):\n",
    "    val, s = cut_rod_extend(p,n)\n",
    "    print(s)\n",
    "    ones = []\n",
    "    while n > 0:\n",
    "        ones.append(s[n])\n",
    "        n -= ones[-1]\n",
    "    return ones"
   ]
  },
  {
   "cell_type": "code",
   "execution_count": 84,
   "metadata": {},
   "outputs": [
    {
     "name": "stdout",
     "output_type": "stream",
     "text": [
      "[0, 1, 2, 3, 2, 2, 6, 1, 2, 3]\n"
     ]
    },
    {
     "data": {
      "text/plain": [
       "[3, 6]"
      ]
     },
     "execution_count": 84,
     "metadata": {},
     "output_type": "execute_result"
    }
   ],
   "source": [
    "p = [1,5,8,9,10,17,17,20,24,30]\n",
    "\n",
    "cut_rod_solution(p, 9)"
   ]
  },
  {
   "cell_type": "markdown",
   "metadata": {},
   "source": [
    "### 5.2 最长公共子序列LCS(Longest Common Subsequence)\n",
    "\n",
    "<img src='./pictures/47_最长公共子序列(LCS).jpg' style='zoom:50%'/>  "
   ]
  },
  {
   "cell_type": "markdown",
   "metadata": {},
   "source": [
    "**定理：**令$X=<x_{1}, x_{2}, \\cdots , x_{m}>$ 和 $Y=<y_{1}, y_{2}, \\cdots , y_{n}$为两个序列，$Z=<z_{1}, z_{2}, \\cdots , z_{k}>$ 为$X$ 和 $Y$ 的任意LCS，则：  \n",
    "1. 如果$x_m = y_{n}$，则$z_{k} = x_{m} = y_{n}$ 且$Z_{k-1}$是$X_{m-1}$和$Y_{n-1}$的一个LCS;\n",
    "1. 如果$x_m \\neq y_{n}$，那么$z_{k} \\neq x_{m}$ 意味着$Z$ 是$X_{m-1}$和$Y$的一个LCS;\n",
    "2. 如果$x_m \\neq y_{n}$，那么$z_{k} \\neq y_{n}$ 意味着$Z$ 是$X$和$Y_{n-1}$的一个LCS;\n",
    "  \n",
    "最优解的递推式：  \n",
    "$$\n",
    "C[i, j]=\\left\\{\\begin{array}{ll}\n",
    "0, & \\text { 当 } i=0 \\text { 或 } j=0 \\\\\n",
    "C[i-1, j-1]+1, & \\text { 当 } i, j>0 \\text { 且 } x_{i}=y_{j} \\\\\n",
    "M A X(C[i, j-1], C[i-1, j]) & \\text { 当 } i, j>0 \\text { 且 } x_{i} \\neq y_{j}\n",
    "\\end{array}\\right.\n",
    "$$"
   ]
  },
  {
   "cell_type": "markdown",
   "metadata": {},
   "source": [
    "上面的定理和递推公式可用如下表格表示：  \n",
    "第一行和第一列表示空串  \n",
    "<img src='./pictures/48_LCS_Table.jpg' style='zoom:50%'/>  "
   ]
  },
  {
   "cell_type": "code",
   "execution_count": 114,
   "metadata": {},
   "outputs": [],
   "source": [
    "def LCS_lenght(x,y):\n",
    "    '''\n",
    "    求两个字符串的最长公共子序列的长度\n",
    "    '''\n",
    "    x_len = len(x)\n",
    "    y_len = len(y)\n",
    "    \n",
    "    lcs_table = [[0 for _ in range(y_len+1)] for _ in range(x_len+1)]\n",
    "    \n",
    "    for row in range(1, x_len+1):\n",
    "        for col in range(1, y_len+1):\n",
    "            if x[row-1] == y[col-1]: #两个字母相同\n",
    "                lcs_table[row][col] = lcs_table[row-1][col-1] + 1 # 等于左上方值 + 1\n",
    "            else: # 两个字母不想等，则取max(左边，右边)\n",
    "                lcs_table[row][col] = max(lcs_table[row-1][col], lcs_table[row][col-1])\n",
    "    return lcs_table[x_len][y_len]\n",
    "\n",
    "\n",
    "'''\n",
    "在计算lcs_table的同时，记录子串长度值的路径\n",
    "规定：1-来自左上方，2-来自上方，3-来自左方\n",
    "'''\n",
    "def LCS(x, y):\n",
    "    x_len = len(x)\n",
    "    y_len = len(y)\n",
    "    \n",
    "    lcs_table = [[0 for _ in range(y_len+1)] for _ in range(x_len+1)]\n",
    "    trace = [[0 for _ in range(y_len+1)] for _ in range(x_len+1)]\n",
    "    \n",
    "    for row in range(1, x_len+1):\n",
    "        for col in range(1, y_len+1):\n",
    "            if x[row-1] == y[col-1]: #两个字母相同\n",
    "                lcs_table[row][col] = lcs_table[row-1][col-1] + 1 # 等于左上方值 + 1\n",
    "                trace[row][col] = 1\n",
    "            elif lcs_table[row-1][col] > lcs_table[row][col-1]: # 说明来自上方\n",
    "                lcs_table[row][col] = lcs_table[row-1][col]\n",
    "                trace[row][col] = 2\n",
    "            else: # 说明来自左方\n",
    "                lcs_table[row][col] = lcs_table[row][col-1]\n",
    "                trace[row][col] = 3\n",
    "    return lcs_table[x_len][y_len], trace\n",
    "\n",
    "    \n",
    "'''\n",
    "根据路径求出最长子串\n",
    "'''\n",
    "def LCS_substr(x,y):\n",
    "    m = len(x)\n",
    "    n = len(y)\n",
    "    \n",
    "    length, trace = LCS(x, y)\n",
    "    substr = []\n",
    "    \n",
    "    while m > 0 and n > 0:\n",
    "        if trace[m][n] == 1: # 来自左上方，说明该位置字符是相同的\n",
    "            substr.append(x[m-1])\n",
    "            m -= 1\n",
    "            n -= 1\n",
    "            continue\n",
    "        elif trace[m][n] == 2: # 来自上方，该位置字符是不同的\n",
    "            m -= 1\n",
    "            continue\n",
    "        else: # 来自左方，该位置字符是不同的\n",
    "            n -= 1\n",
    "            continue\n",
    "    return ''.join(reversed(substr))"
   ]
  },
  {
   "cell_type": "code",
   "execution_count": 115,
   "metadata": {},
   "outputs": [
    {
     "name": "stdout",
     "output_type": "stream",
     "text": [
      "[0, 0, 0, 0, 0, 0, 0]\n",
      "[0, 3, 3, 3, 1, 3, 1]\n",
      "[0, 1, 3, 3, 3, 1, 3]\n",
      "[0, 2, 3, 1, 3, 3, 3]\n",
      "[0, 1, 3, 2, 3, 1, 3]\n",
      "[0, 2, 1, 3, 3, 2, 3]\n",
      "[0, 2, 2, 3, 1, 3, 1]\n",
      "[0, 1, 2, 3, 2, 1, 3]\n"
     ]
    },
    {
     "data": {
      "text/plain": [
       "'BDAB'"
      ]
     },
     "execution_count": 115,
     "metadata": {},
     "output_type": "execute_result"
    }
   ],
   "source": [
    "LCS_length('ABCBDAB', 'BDCABA')\n",
    "length, trace = LCS('ABCBDAB', 'BDCABA')\n",
    "for _ in trace:\n",
    "    print(_)\n",
    "LCS_substr('ABCBDAB', 'BDCABA')"
   ]
  },
  {
   "cell_type": "markdown",
   "metadata": {},
   "source": [
    "## 6. 欧几里得算法\n",
    "最大公约数（Greatest Common Divisor，GCD）  \n",
    "\n",
    "欧几里得算法：gcd(a, b) = gcd(b, a%b), 例： \n",
    "\n",
    "> gcd(60, 21) = gcd(21, 18) = gcd(18, 3) = gcd(3, 0) = 3"
   ]
  },
  {
   "cell_type": "code",
   "execution_count": 148,
   "metadata": {},
   "outputs": [],
   "source": [
    "'''\n",
    "递归实现gcd\n",
    "'''\n",
    "def gcd_rec(a, b):\n",
    "    if a % b == 0:\n",
    "        return b\n",
    "    else:\n",
    "        return gcd_rec(b, a % b)\n",
    "\n",
    "'''\n",
    "非递归实现gcd\n",
    "'''\n",
    "def gcd_no_rec(a, b):\n",
    "    while b != 0:\n",
    "        tmp = b\n",
    "        b = a % b\n",
    "        a = tmp\n",
    "    else:\n",
    "        return a\n",
    "\n",
    "'''\n",
    "分数的运算\n",
    "'''    \n",
    "class Fraction():\n",
    "    \n",
    "    def __init__(self, molecular, denominator):\n",
    "        self.molecular = molecular # 分子\n",
    "        self.denominator = denominator\n",
    "        gcd = self.gcd(molecular, denominator)\n",
    "        self.molecular = molecular / gcd\n",
    "        self.denominator = denominator / gcd\n",
    "        \n",
    "    \n",
    "    def gcd(self, molecular, denominator):\n",
    "        while denominator != 0:\n",
    "            tmp = denominator\n",
    "            denominator = molecular % denominator\n",
    "            molecular = tmp\n",
    "        else:\n",
    "            return molecular\n",
    "        \n",
    "    '''\n",
    "    分数加法\n",
    "    '''\n",
    "    def __add__(self, other):\n",
    "        m1 = self.molecular\n",
    "        d1 = self.denominator\n",
    "        m2 = other.molecular\n",
    "        d2 = other.denominator\n",
    "        \n",
    "        # 先统一分母，且最小公倍数\n",
    "        # 6，8 --> gcd:2 --> 6/2=3,8/2=4 -->最小公倍数：2*3*4\n",
    "        gcd = self.gcd(d1, d2)\n",
    "        denominator = gcd * (d1 / gcd) * (d2 / gcd) # 分母的最小公倍数\n",
    "        molecular = m1 * (d1 / gcd) + m2 * (d2 / gcd)\n",
    "        return Fraction(molecular, denominator)\n",
    "        \n",
    "\n",
    "    def __str__(self):\n",
    "        return '%d/%d'%(self.molecular, self.denominator)\n",
    "   "
   ]
  },
  {
   "cell_type": "code",
   "execution_count": 149,
   "metadata": {},
   "outputs": [
    {
     "name": "stdout",
     "output_type": "stream",
     "text": [
      "5/6\n"
     ]
    }
   ],
   "source": [
    "f1 = Fraction(1,2)\n",
    "f2 = Fraction(1,3)\n",
    "total = f1 + f2\n",
    "print(total)"
   ]
  },
  {
   "cell_type": "markdown",
   "metadata": {},
   "source": [
    "## 7. RSA算法\n",
    "传统密码：加密算法是秘密的，比如凯撒码；  \n",
    "\n",
    "现代密码系统：加密算法是公开的，但秘钥是秘密的：\n",
    "\n",
    "- 对称加密（DES、3DES、Blowfish、IDEA、RC4、RC5、RC6 和 AES ）\n",
    "- 非对称加密（RSA、ECC（移动设备用）、Diffie-Hellman、El Gamal、DSA（数字签名用））\n",
    "  \n",
    "公钥：用于加密  \n",
    "\n",
    "私钥：用于解密"
   ]
  },
  {
   "cell_type": "markdown",
   "metadata": {},
   "source": [
    "RSA加解密过程：  \n",
    "1. 随机选取两个质数 p 和 q ；\n",
    "2. 计算 n = pq ;\n",
    "3. 选取一个与 φ(n) 互质的小奇数e， 其中φ(n)=(p-1)(q-1)\n",
    "4. 对φ(n)，计算e的乘法逆元d，即满足 (e\\*d) mod φ(n) = 1\n",
    "5. 公钥(e,n)   私钥(d,n)\n",
    "6. 加密过程：c=(m^e) mod n\n",
    "7. 解密过程：m=(c^d) mod n"
   ]
  },
  {
   "cell_type": "markdown",
   "metadata": {},
   "source": [
    "## 8. 字符串算法\n",
    "1. 哈希法（最直观的方法）\n",
    "2. KMP算法（最基础的方法）\n",
    "3. 扩展KMP算法\n",
    "4. Manacher算法（解决回文串问题（aba））\n",
    "5. AC自动机（Trie+KMP）"
   ]
  },
  {
   "cell_type": "markdown",
   "metadata": {},
   "source": [
    "- 哈希：最简单直观，易实现，便于拓展；\n",
    "- KMP：本质是利用模板串自身的信息，去减少匹配时的冗余比较，达到优秀的时间复杂度；$O(n)$\n",
    "- 扩展KMP、Manacher算法：利用对称性，降低时间复杂度，$O(n)$\n",
    "- AC自动机：Trie树与KMP的结合，可以解决一个串和多个串的匹配问题。"
   ]
  },
  {
   "cell_type": "markdown",
   "metadata": {},
   "source": [
    "### 8.1 哈希法"
   ]
  },
  {
   "cell_type": "markdown",
   "metadata": {},
   "source": [
    "**问题：**  \n",
    "有一个字符串集合，假设为 \\['abc', 'bcd', 'adf', 'bce', 'edaf', 'adfc','ad'\\], 问字符串'adfc'在该集合中吗？  \n",
    "该问题可以用字符串哈希实现，效率比暴力计算高。  \n",
    "  \n",
    "字符串哈希就是将一个字符串映射为一个整数。  \n",
    "哈希公式：  \n",
    "$$\n",
    "\\text{hash}[i] = \\text{hash}[i-1]*p + \\text{id}(s[i])\n",
    "$$\n",
    "其中，p为质数，id(x)为x-'a'+1或者x的ASCII码。"
   ]
  },
  {
   "cell_type": "code",
   "execution_count": 18,
   "metadata": {},
   "outputs": [],
   "source": [
    "class Node():\n",
    "    \n",
    "    def __init__(self, value=None):\n",
    "        self.next = None\n",
    "        self.pre = None\n",
    "        self.value = value\n",
    "        \n",
    "'''计算hash值'''\n",
    "def get_hash(string:str, p:int=31):\n",
    "    h = 0\n",
    "    for idx, char in enumerate(string):\n",
    "        if idx == 0:\n",
    "            h += ord(string[idx])\n",
    "        else:\n",
    "            h = h * p + ord(string[idx])\n",
    "    return h\n",
    "         \n",
    "class StrHash():\n",
    "    \n",
    "    def __init__(self, mod=31, maxn=1e6+7):\n",
    "        self.mod = mod\n",
    "        self.li = [None for _ in range(int(maxn))]\n",
    "        \n",
    "        \n",
    "    def insert(self, string):\n",
    "        shash = get_hash(string, self.mod)\n",
    "        \n",
    "        if self.li[shash] is None:\n",
    "            node = Node(string)\n",
    "            self.li[shash] = node\n",
    "        else:\n",
    "            # 若有hash冲突，采用头插法插入\n",
    "            root_node = self.li[shash]\n",
    "            if root_node.next is None:\n",
    "                node = Node(string)\n",
    "                root_node.next = node\n",
    "                node.pre = root_node\n",
    "            else:\n",
    "                node = Node(string)\n",
    "                root_node.next.pre = node\n",
    "                node.next = root_node.next\n",
    "                root_node.next = node\n",
    "                node.pre = root_node\n",
    "    \n",
    "    def __contains__(self, item):\n",
    "        shash = get_hash(item, self.mod)\n",
    "        root_node = self.li[shash]\n",
    "        if root_node is None:\n",
    "            return False\n",
    "        else:\n",
    "            while root_node is not None:\n",
    "                if item == root_node.value:\n",
    "                    return True\n",
    "                else:\n",
    "                    root_node = root_node.next\n",
    "            else:\n",
    "                return False   "
   ]
  },
  {
   "cell_type": "code",
   "execution_count": 19,
   "metadata": {},
   "outputs": [
    {
     "data": {
      "text/plain": [
       "3105"
      ]
     },
     "execution_count": 19,
     "metadata": {},
     "output_type": "execute_result"
    }
   ],
   "source": [
    "get_hash('ab')"
   ]
  },
  {
   "cell_type": "code",
   "execution_count": 20,
   "metadata": {},
   "outputs": [
    {
     "name": "stdout",
     "output_type": "stream",
     "text": [
      "True\n",
      "False\n"
     ]
    }
   ],
   "source": [
    "shash = StrHash()\n",
    "shash.insert('ab')\n",
    "shash.insert('a')\n",
    "shash.insert('abc')\n",
    "shash.insert('def')\n",
    "\n",
    "print('ab' in shash)\n",
    "print('abd' in shash)"
   ]
  },
  {
   "cell_type": "markdown",
   "metadata": {},
   "source": [
    "### 8.2 KMP"
   ]
  },
  {
   "cell_type": "markdown",
   "metadata": {},
   "source": [
    "待匹配字符串T: 'ABACDEFBEDFACCD'  \n",
    "模式字符串P: 'ACCD'  \n",
    "  \n",
    "字符串匹配问题就是看T中是否有P。  \n",
    "  \n",
    "**概念：**\n",
    "1. 子串：\n",
    "> 'ABCDABC'的前缀子串有：\\['A', 'AB', 'ABC', 'ABCD', 'ABCDA', 'ABCDAB', 'ABCDABC'\\], 其中，除它本身外，其它称为真前缀子串；\n",
    "> 'ABCDABC'的后缀子串有：\\['C', 'BC', 'ABC', 'DABC', 'CDABC', 'BCDABC', 'ABCDABC'\\], 其中，除它本身外，其余称为真后缀子串。\n",
    "\n",
    "KMP算法是一种改进的字符串匹配算法，由D.E.Knuth，J.H.Morris和V.R.Pratt提出的，因此人们称它为克努特—莫里斯—普拉特操作（简称KMP算法）。KMP算法的核心是利用匹配失败后的信息，尽量减少模式串与主串的匹配次数以达到快速匹配的目的。"
   ]
  },
  {
   "cell_type": "markdown",
   "metadata": {},
   "source": [
    "暴力解法"
   ]
  },
  {
   "cell_type": "code",
   "execution_count": 109,
   "metadata": {},
   "outputs": [],
   "source": [
    "'''\n",
    "T: ABCACEBDACEABCB\n",
    "P: ACEAB\n",
    "'''\n",
    "\n",
    "def str_match(text, pattern):\n",
    "    t_idx = 0 # 待匹配字符串指针\n",
    "    while t_idx <= len(text)-len(pattern):\n",
    "        for i in range(t_idx, t_idx+len(pattern)):\n",
    "            if text[i] == pattern[i-t_idx]:\n",
    "                if i-t_idx == len(pattern)-1:\n",
    "                    return True\n",
    "                else:\n",
    "                    continue\n",
    "            else:\n",
    "                t_idx += 1\n",
    "                break\n",
    "    return False"
   ]
  },
  {
   "cell_type": "code",
   "execution_count": 110,
   "metadata": {},
   "outputs": [
    {
     "name": "stdout",
     "output_type": "stream",
     "text": [
      "True\n",
      "False\n"
     ]
    }
   ],
   "source": [
    "t = 'ABCACEBDACEABCBEABCBDFSRKJNMHBVFGRTEWXCVBNMSDFGH'\n",
    "p1 = 'TEWXCVBNMSD'\n",
    "p2 = 'TEWXCVBNMSG'\n",
    "\n",
    "print(str_match(t, p1))\n",
    "print(str_match(t, p2))"
   ]
  },
  {
   "cell_type": "markdown",
   "metadata": {},
   "source": [
    "KMP算法"
   ]
  },
  {
   "cell_type": "markdown",
   "metadata": {},
   "source": [
    "<img src='./pictures/51_KMP.png' style='zoom:20%'/>\n",
    "\n",
    "<img src='./pictures/52_KMP_next.png' style='zoom:50%'/>"
   ]
  },
  {
   "cell_type": "code",
   "execution_count": 111,
   "metadata": {},
   "outputs": [],
   "source": [
    "'''\n",
    "0 1 2 3 4 5 6 7 8 9 10 11\n",
    "A B A B A A A B A B A  A\n",
    "0 1 1 2 3 4 2 2 3 4 5  6\n",
    "'''\n",
    "def next_idx(pattern):\n",
    "    # 前两个元素始终为0,1\n",
    "    idx = [1 for _ in range(len(pattern))]\n",
    "    idx[0] = 0\n",
    "    # 从第3个元素开始计算\n",
    "    for i in range(2, len(pattern)):\n",
    "        for j in range(i - 1, 0, -1):\n",
    "            if pattern[:j] == pattern[i-j:i]:\n",
    "                idx[i] = j + 1\n",
    "                break\n",
    "    return idx"
   ]
  },
  {
   "cell_type": "code",
   "execution_count": 117,
   "metadata": {},
   "outputs": [
    {
     "name": "stdout",
     "output_type": "stream",
     "text": [
      "[0, 1, 1, 2, 3, 4, 2, 2, 3, 4, 5, 6]\n",
      "[0, 1, 1, 1, 1, 1, 1]\n"
     ]
    }
   ],
   "source": [
    "print(next_idx('ABABAAABABAA'))\n",
    "print(next_idx('ABCDEFG'))"
   ]
  },
  {
   "cell_type": "code",
   "execution_count": 119,
   "metadata": {},
   "outputs": [],
   "source": [
    "def str_match_kmp(text, pattern):\n",
    "    p_next = next_idx(pattern)\n",
    "\n",
    "    t_idx = 0  # text指针当前位置\n",
    "    p_idx = 0  # pattern指针当前位置\n",
    "\n",
    "    while t_idx < len(text) and p_idx < len(pattern):\n",
    "        if text[t_idx] == pattern[p_idx]:\n",
    "            if p_idx == len(pattern) - 1:\n",
    "                return True\n",
    "            else:\n",
    "                t_idx += 1\n",
    "                p_idx += 1\n",
    "                continue\n",
    "        else:\n",
    "            next_id = p_next[p_idx]\n",
    "            if next_id == 0:\n",
    "                t_idx += 1\n",
    "                continue\n",
    "            else:\n",
    "                p_idx = next_id - 1\n",
    "                continue\n",
    "    else:\n",
    "        return False"
   ]
  },
  {
   "cell_type": "code",
   "execution_count": 120,
   "metadata": {},
   "outputs": [
    {
     "name": "stdout",
     "output_type": "stream",
     "text": [
      "True\n"
     ]
    }
   ],
   "source": [
    "t = 'ABCDESDSFGCDGABCDEF'\n",
    "p = 'ABCDEF'\n",
    "print(str_match(t, p))"
   ]
  },
  {
   "cell_type": "code",
   "execution_count": 114,
   "metadata": {},
   "outputs": [
    {
     "name": "stdout",
     "output_type": "stream",
     "text": [
      "True\n",
      "False\n"
     ]
    }
   ],
   "source": [
    "t = 'ABCACEBDACEABCBEABCBDFSRKJNMHBVFGRTEWXCVBNMSDFGH'\n",
    "p1 = 'TEWXCVBNMSD'\n",
    "p2 = 'TEWXCVBNMSG'\n",
    "\n",
    "print(str_match(t, p1))\n",
    "print(str_match(t, p2))"
   ]
  },
  {
   "cell_type": "code",
   "execution_count": 115,
   "metadata": {},
   "outputs": [
    {
     "name": "stdout",
     "output_type": "stream",
     "text": [
      "说明KMP算法看懂了觉得特别简单，思路很简单，看不懂之前，查各种资料，看的稀里糊涂，即使网上最简单的解释，依然看的稀里糊涂。我花了半天时间，争取用最短的篇幅大致搞明白这玩意到底是啥。这里不扯概念，只讲算法过程和代码理解：KMP算法求解什么类型问题字符串匹配。给你两个字符串，寻找其中一个字符串是否包含另一个字符串，如果包含，返回包含的起始位置。如下面两个字符串：比如我们已经知道ababab，q=4时，next[4]=2（k=2，表示该字符串的前5个字母组成的子串ababa存在相同的最长前缀和最长后缀的长度是3，所以k=2,next[4]=2。这个结果可以理解成我们自己观察算的，也可以理解成程序自己算的，这不是重点，重点是程序根据目前的结果怎么算next[5]的）.，那么对于字符串ababab，我们计算next[5]的时候，此时q=5, k=2（上一步循环结束后的结果）。那么我们需要比较的是str[k+1]和str[q]是否相等，其实就是str[1]和str[5]是否相等！，为啥从k+1比较呢，因为上一次循环中，我们已经保证了str[k]和str[q]（注意这个q是上次循环的q）是相等的（这句话自己想想，很容易理解），所以到本次循环，我们直接比较str[k+1]和str[q]是否相等（这个q是本次循环的q）。如果相等，那么跳出while()，进入if()，k=k+1，接着next[q]=k。即对于ababab，我们会得出next[5]=3。 这是程序自己算的，和我们观察的是一样的。如果不等，我们可以用”ababac“描述这种情况。 不等，进入while()里面，进行k=next[k]，这句话是说，在str[k + 1] != str[q]的情况下，我们往前找一个k，使str[k + 1]==str[q]，是往前一个一个找呢，还是有更快的找法呢？（一个一个找必然可以，即你把 k = next[k] 换成k- -也是完全能运行的（更正：这句话不对啊，把k=next[k]换成k–是不行的，评论25楼举了个反例）。但是程序给出了一种更快的找法，那就是 k = next[k]。 程序的意思是说，一旦str[k + 1] != str[q]，即在后缀里面找不到时，我是可以直接跳过中间一段，跑到前缀里面找，next[k]就是相同的最长前缀和最长后缀的长度。所以，k=next[k]就变成，k=next[2]，即k=0。此时再比较str[0+1]和str[5]是否相等，不等，则k=next[0]=-1。跳出循环。\n",
      "（这个解释能懂不？）我们可以看到，匹配串每次往前移动，都是一大段一大段移动，假设匹配串里不存在重复的前缀和后缀，即next的值都是-1，那么每次移动其实就是一整个匹配串往前移动m个距离。然后重新一一比较，这样就比较m次，概括为，移动m距离，比较m次，移到末尾，就是比较n次，O(n)复杂度。 假设匹配串里存在重复的前缀和后缀，我们移动的距离相对小了点，但是比较的次数也小了，整体代价也是O(n)。所以复杂度是一个线性的复杂度。\n"
     ]
    }
   ],
   "source": [
    "text = ''\n",
    "with open('kmp_text.txt') as f:\n",
    "    lines = f.readlines()\n",
    "    for line in lines:\n",
    "        text = text + line\n",
    "print(text)\n",
    "\n",
    "pattern = '所以复杂度'\n",
    "pattern2 = '所以复杂度啊'"
   ]
  },
  {
   "cell_type": "code",
   "execution_count": 116,
   "metadata": {},
   "outputs": [
    {
     "name": "stdout",
     "output_type": "stream",
     "text": [
      "True\n",
      "False\n",
      "暴力法总共耗时： 0.002076864242553711\n",
      "True\n",
      "False\n",
      "KMP总共耗时： 0.0011548995971679688\n"
     ]
    }
   ],
   "source": [
    "import time\n",
    "\n",
    "begin = time.time()\n",
    "print(str_match(text, pattern))\n",
    "print(str_match(text, pattern2))\n",
    "print('暴力法总共耗时：',time.time()-begin)\n",
    "\n",
    "begin = time.time()\n",
    "print(str_match_kmp(text, pattern))\n",
    "print(str_match_kmp(text, pattern2))\n",
    "print('KMP总共耗时：',time.time()-begin)"
   ]
  },
  {
   "cell_type": "markdown",
   "metadata": {},
   "source": [
    "**KMP的核心：** <font color=red>主要是通过next()，避免了待匹配字符串指针的回溯，从而节省匹配时间。</font>"
   ]
  },
  {
   "cell_type": "markdown",
   "metadata": {},
   "source": [
    "### 8.3：字典树（trie树）\n",
    "在字典分词算法中，我们需要判断当前字符串是否在字典中。如果用有序集合（TreeMap）的话，复杂度是$O(\\log{n})$；如果用散列表（HashMap）的话，时间复杂度虽然下降了，但内存复杂度却上去了。  \n",
    "  \n",
    "\n",
    "字典树，又叫trie树、前缀树，有如下性质：  \n",
    "1. 字典树每条边都对应一个字；\n",
    "2. 从根节点往下的路径构成一个个字符串；\n",
    "3. 字典树并不直接在节点上存储字符串，而是将词语视作根节点到某节点之间的一条路径，并在终点节点（蓝色）上做标记“该节点对应词语的结尾”；\n",
    "4. 字符串就是一条路径，要查询一个单词，只需顺着这条路径从根节点往下走。\n",
    "\n",
    "<img src='./pictures/49_字典树示意图.jpg' style='zoom:45%'/>  \n",
    "\n",
    "当词典大小为$n$时，虽然最坏情况下字典树的复杂度依然是$O(\\log{n})$（假设子节点用对数复杂度的数据结构存储，所有词语都是单字），但他的实际速度要比二分查找快。这是因为随着路径的深入，前缀匹配是递进的过程，算法不必比较字符串的前缀。\n",
    "\n",
    "<img src='./pictures/50_字典树实现.jpg' style='zoom:50%'/>"
   ]
  },
  {
   "cell_type": "code",
   "execution_count": 19,
   "metadata": {},
   "outputs": [],
   "source": [
    "class Node:\n",
    "    \n",
    "    def __init__(self, value):\n",
    "        self._children = {}\n",
    "        self._value = value\n",
    "        \n",
    "    def _add_child(self, char, value, overwrite=False):\n",
    "        child = self._children.get(char)\n",
    "        if child is None: # 对应子节点为None\n",
    "            child = Node(value)\n",
    "            self._children[char] = child\n",
    "        elif overwrite:\n",
    "            child._value = value\n",
    "        return child\n",
    "    \n",
    "class Trie(Node):\n",
    "    \n",
    "    def __init__(self):\n",
    "        super().__init__(None) # 初始化一个根节点\n",
    "        \n",
    "    # 覆写__contains__魔法方法\n",
    "    def __contains__(self, key):\n",
    "        return self[key] is not None # 等价于 self.__getitem__(key)\n",
    "\n",
    "    # 可以像对待dict一样操作字典树\n",
    "    def __getitem__(self, key):\n",
    "        root = self\n",
    "        for char in key:\n",
    "            root = root._children.get(char)\n",
    "            if root is None:\n",
    "                return None\n",
    "        return root._value\n",
    "    \n",
    "    def __setitem__(self, key, value):\n",
    "        \n",
    "        root = self\n",
    "        \n",
    "        for idx, char in enumerate(key):\n",
    "            if idx < len(key) - 1:\n",
    "                root = root._add_child(char, None, False)\n",
    "            else: # 蓝色节点\n",
    "                root = root._add_child(char, value, True)   "
   ]
  },
  {
   "cell_type": "code",
   "execution_count": 23,
   "metadata": {},
   "outputs": [
    {
     "name": "stdout",
     "output_type": "stream",
     "text": [
      "True\n",
      "False\n",
      "False\n",
      "nature human\n",
      "introduction\n"
     ]
    }
   ],
   "source": [
    "trie = Trie()\n",
    "trie['入门'] = 'introduction'\n",
    "trie['自然人'] = 'human'\n",
    "trie['自语'] = 'speak to oneself'\n",
    "trie['自然'] = 'nature'\n",
    "\n",
    "print('自然' in trie)\n",
    "print('自然猪' in trie)\n",
    "\n",
    "# 删\n",
    "trie['自然'] = None\n",
    "print('自然' in trie)\n",
    "\n",
    "# 改\n",
    "trie['自然人'] = 'nature human'\n",
    "print(trie['自然人'])\n",
    "\n",
    "# 查\n",
    "print(trie['入门'])"
   ]
  },
  {
   "cell_type": "markdown",
   "metadata": {},
   "source": [
    "### 8.4 AC自动机"
   ]
  },
  {
   "cell_type": "markdown",
   "metadata": {},
   "source": [
    "Aho-Corasick automaton,该算法在1975年产生于贝尔实验室，是著名的多模匹配算法。  \n",
    "  \n",
    "**多模式匹配（multi-pattern matching）:** 给定多个词语（也称模式串，pattern），从母文本中匹配它们的问题称多模式匹配，比如：  \n",
    "母文本: ushers  \n",
    "模式串集合: {he, she, his, hers}  \n",
    "\n",
    "前置知识：trie树、KMP、BFS  \n",
    "  \n",
    "KMP:     单对单文本匹配，比如母文本：ABACDEFADBCA, pattern：ADBCA  \n",
    "trie树:  多对单文本匹配，比如母文本集合：{自然、自然人、自然语言、入门}  pattern:自然语言   \n",
    "AC自动机: 单对多文本匹配。"
   ]
  },
  {
   "cell_type": "markdown",
   "metadata": {},
   "source": [
    "AC自动机的实现原理：\n",
    "1. 第模式串构建trie树；\n",
    "2. 构建fail指针:（fail本质上当前单词的最长后缀，比如：this的最长后缀是his,所以this的s指向his的s.）\n",
    "    - 它是BFS来构建；\n",
    "    - 它的第一层全部指向root\n",
    "    - fail指向：它的父亲的fail节点的同字符儿子，若没有找到，就继续跳fail，直到跳到root还没有，指向root  \n",
    "        \n",
    "3. 匹配（本质上是在fail链上找单词）\n",
    "    - 从根出发，从第一个文本首字母出发；\n",
    "    - 进行trie匹配\n",
    "        - 如果有，进入它\n",
    "        - 如果没有跳fail，直到root\n",
    "        - 如果跳到root，下一个文本串\n",
    "    - 找到单词，不断跳fail，并进行回溯"
   ]
  },
  {
   "cell_type": "markdown",
   "metadata": {},
   "source": [
    "<img src='./pictures/53_AC自动机.png' style='zoom:45%'/>"
   ]
  },
  {
   "cell_type": "markdown",
   "metadata": {},
   "source": [
    "**匹配过程：**  \n",
    "1. "
   ]
  },
  {
   "cell_type": "code",
   "execution_count": 15,
   "metadata": {},
   "outputs": [],
   "source": [
    "class ACNode():\n",
    "\n",
    "    def __init__(self, character=None):\n",
    "        self.children = {}\n",
    "        self.pre = None\n",
    "        self.character = character\n",
    "        self.pattern = []\n",
    "        self.fail = None\n",
    "    \n",
    "    '''根据character获取子节点'''\n",
    "    def child_node(self, character):\n",
    "        if character in self.children:\n",
    "            return self.children[character]\n",
    "        else:\n",
    "            return None\n",
    "    \n",
    "    def extend_pattern(self, pattern):\n",
    "        self.pattern.extend(pattern)\n",
    "\n",
    "    def append_pattern(self, pattern):\n",
    "        self.pattern.append(pattern)\n",
    "\n",
    "\n",
    "from collections import deque\n",
    "\n",
    "\n",
    "class ACAutomaton():\n",
    "\n",
    "    def __init__(self, pattern_list=[]):\n",
    "        self.root = ACNode()\n",
    "        self.root.fail = self.root  # root的fail指向它本身\n",
    "        self.fail_finished = False\n",
    "        for pattern in pattern_list:\n",
    "            self.add_pattern(pattern)\n",
    "\n",
    "    '''添加模式串'''\n",
    "    def add_pattern(self, pattern):\n",
    "        cur_node = self.root\n",
    "        for character in pattern: # 遍历模式串\n",
    "            child_node = cur_node.child_node(character)\n",
    "            if child_node:\n",
    "                cur_node = child_node\n",
    "            else:\n",
    "                child_node = ACNode(character)\n",
    "                cur_node.children[character] = child_node\n",
    "                child_node.pre = cur_node\n",
    "                cur_node = child_node\n",
    "        cur_node.append_pattern(pattern)\n",
    "\n",
    "    '''遍历所有pattern'''\n",
    "    def get_all(self, cur_node):\n",
    "        if len(cur_node.pattern) > 0:\n",
    "            print(cur_node.pattern)\n",
    "        for key in cur_node.children:\n",
    "            self.get_all(cur_node.children[key])\n",
    "\n",
    "    '''构建fail链'''\n",
    "    def __construct_fail(self):\n",
    "        if self.fail_finished:\n",
    "            return\n",
    "        # BFS遍历每个节点，构建fail链\n",
    "        queue = deque()\n",
    "\n",
    "        # 第一层的节点的fail指向root\n",
    "        for key in self.root.children:\n",
    "            self.root.children[key].fail = self.root\n",
    "            queue.append(self.root.children[key])\n",
    "\n",
    "        while len(queue) > 0:\n",
    "            cur_node = queue.popleft()\n",
    "            cur_char = cur_node.character\n",
    "\n",
    "            # 将当前节点的子节点添加到queue中\n",
    "            children = cur_node.children\n",
    "            for key, node in children.items():\n",
    "                queue.append(node)\n",
    "\n",
    "            # 设置当前节点的fail节点\n",
    "            if cur_node.fail is None:\n",
    "                parent_node = cur_node.pre\n",
    "                fail_node = parent_node.fail\n",
    "                while cur_char not in fail_node.children:\n",
    "                    if fail_node == self.root:\n",
    "                        cur_node.fail = fail_node\n",
    "                        break\n",
    "                    else:\n",
    "                        fail_node = fail_node.fail\n",
    "                        continue\n",
    "                else:\n",
    "                    cur_node.fail = fail_node.children[cur_char]\n",
    "                    cur_node.extend_pattern(fail_node.children[cur_char].pattern)\n",
    "        self.fail_finished = True\n",
    "\n",
    "    '''模式匹配'''\n",
    "    def match(self, text):\n",
    "\n",
    "        # 先检查并构建fail链\n",
    "        self.__construct_fail()\n",
    "\n",
    "        # 根据fail链进行匹配\n",
    "        root = self.root\n",
    "        out_pattern = []\n",
    "\n",
    "        for character in text:\n",
    "            if character in root.children:  # 如果匹配成功，则沿着trie树继续向下匹配\n",
    "                root = root.children[character]\n",
    "                if len(root.pattern) > 0:\n",
    "                    out_pattern.extend(root.pattern)\n",
    "            else:  # 如果匹配不成功，则根据fail链进行匹配\n",
    "                fail_node = root.fail\n",
    "\n",
    "                while character not in fail_node.children:\n",
    "                    fail_node = fail_node.fail\n",
    "                    if fail_node == self.root:\n",
    "                        break\n",
    "                else:\n",
    "                    root = fail_node.children[character]\n",
    "                    if len(root.pattern) > 0:\n",
    "                        out_pattern.extend(root.pattern)\n",
    "        return out_pattern"
   ]
  },
  {
   "cell_type": "code",
   "execution_count": 16,
   "metadata": {},
   "outputs": [
    {
     "name": "stdout",
     "output_type": "stream",
     "text": [
      "['she']\n",
      "['he']\n",
      "['her']\n",
      "['his']\n",
      "['this']\n",
      "['is']\n",
      "['she', 'he', 'her', 'this', 'his', 'is']\n"
     ]
    }
   ],
   "source": [
    "patterns = ['she', 'he', 'her', 'his', 'this', 'is']\n",
    "ac = ACAutomaton(patterns)\n",
    "ac.get_all(ac.root)\n",
    "print(ac.match('sherthis'))"
   ]
  },
  {
   "cell_type": "markdown",
   "metadata": {},
   "source": [
    "### 8.5 Manacher算法（回文串问题）"
   ]
  },
  {
   "cell_type": "markdown",
   "metadata": {},
   "source": [
    "a"
   ]
  },
  {
   "cell_type": "code",
   "execution_count": 131,
   "metadata": {},
   "outputs": [],
   "source": [
    "import time \n",
    "\n",
    "def display_run_time(func):\n",
    "    def wrapper(*args):\n",
    "        t1 = time.time()\n",
    "        result = func(*args)\n",
    "        t2 = time.time()\n",
    "        print('Total Time:%.6fs'%(t2-t1))\n",
    "        return result\n",
    "    return wrapper"
   ]
  },
  {
   "cell_type": "markdown",
   "metadata": {},
   "source": [
    "#### 暴力解法\n",
    "遍历每一个子串，校验它们是否是回文串，时间复杂度为$O(n^{3})$"
   ]
  },
  {
   "cell_type": "code",
   "execution_count": 132,
   "metadata": {},
   "outputs": [],
   "source": [
    "@display_run_time\n",
    "def brute_fore(string):\n",
    "    size = len(string)\n",
    "    \n",
    "    max_len = 0\n",
    "    start = 0\n",
    "    for i in range(size):\n",
    "        for j in range(i+1,size+1): # 两层循环，遍历所有的子串\n",
    "            sub_string = string[i:j]\n",
    "            sub_len = len(sub_string)\n",
    "            for k in range(sub_len):\n",
    "                if sub_string[k] != sub_string[sub_len-k-1]:\n",
    "                    break\n",
    "                elif sub_len-k-1 < k and sub_len > max_len:\n",
    "                    max_len = sub_len\n",
    "                    start = i\n",
    "                    break\n",
    "    return start, max_len  "
   ]
  },
  {
   "cell_type": "code",
   "execution_count": 133,
   "metadata": {},
   "outputs": [
    {
     "name": "stdout",
     "output_type": "stream",
     "text": [
      "Total Time:0.000027s\n",
      "1 5\n"
     ]
    }
   ],
   "source": [
    "start, max_len = brute_fore('dababac')\n",
    "print(start, max_len)"
   ]
  },
  {
   "cell_type": "markdown",
   "metadata": {},
   "source": [
    "#### 中心扩展法\n",
    "以被考虑词为中心，向两边扩展，分两种情况讨论：  \n",
    "1. 长度为奇数，比如：aba\n",
    "2. 长度为偶数，比如：abba\n",
    "  \n",
    "时间复杂度$O(n^{2})$"
   ]
  },
  {
   "cell_type": "code",
   "execution_count": 134,
   "metadata": {},
   "outputs": [],
   "source": [
    "@display_run_time\n",
    "def center_extend(string):\n",
    "    '''\n",
    "    abadc\n",
    "    abba\n",
    "    '''\n",
    "    match_string = ''\n",
    "    size = len(string)\n",
    "\n",
    "    # 按奇数考虑\n",
    "    for i in range(size):\n",
    "        j = i-1\n",
    "        k = i+1\n",
    "        while j >= 0 and k < size and string[j] == string[k]:\n",
    "            j -= 1\n",
    "            k += 1\n",
    "        else:\n",
    "            if k-j-1 > len(match_string):\n",
    "                match_string = string[j+1:k]\n",
    "\n",
    "    # 按偶数考虑\n",
    "    for i in range(size):\n",
    "        j = i\n",
    "        k = i+1\n",
    "        while j >= 0 and k < size and string[j] == string[k]:\n",
    "            j -= 1\n",
    "            k += 1\n",
    "        else:\n",
    "            if k-j-1 > len(match_string):\n",
    "                match_string = string[j+1:k]\n",
    "\n",
    "    return match_string"
   ]
  },
  {
   "cell_type": "code",
   "execution_count": 135,
   "metadata": {},
   "outputs": [
    {
     "name": "stdout",
     "output_type": "stream",
     "text": [
      "Total Time:0.000004s\n",
      "a\n",
      "Total Time:0.000006s\n",
      "aba\n",
      "Total Time:0.000006s\n",
      "abba\n",
      "Total Time:0.000006s\n",
      "abba\n",
      "Total Time:0.000007s\n",
      "bdadb\n"
     ]
    }
   ],
   "source": [
    "print(center_extend('a'))\n",
    "print(center_extend('aba'))\n",
    "print(center_extend('abba'))\n",
    "print(center_extend('eabba'))\n",
    "print(center_extend('acbdadbe'))"
   ]
  },
  {
   "cell_type": "code",
   "execution_count": 136,
   "metadata": {},
   "outputs": [],
   "source": [
    "@display_run_time\n",
    "def manacher(string):\n",
    "    max_len = 0\n",
    "    \n",
    "    # 1. 字符串预处理\n",
    "    pre_str = '#'\n",
    "    for s in string:\n",
    "        pre_str = pre_str + s + '#'\n",
    "        \n",
    "    length = len(pre_str)\n",
    "    \n",
    "    # 2. 初始化半径列表和最右边解\n",
    "    rad = [0 for _ in range(len(pre_str))]\n",
    "    max_right = 0 # max_right对应的字符包含在回文串中\n",
    "    mid_point = 0 # max_right对应的回文中点\n",
    "    \n",
    "    # 3. 遍历每个字符，找最长回文串\n",
    "    for i in range(length):\n",
    "        # 根据已有回文半径，得到当前i位置扩充前的回文半径\n",
    "        if i < max_right:\n",
    "            # 如果 i 在max_right的左边，则rad[i]要么等于i 关于 mid_pos 对称点 i' 的rad[i'] , 要么等于max_right - i\n",
    "            rad[i] = min(rad[2 * mid_point - i], max_right - i)\n",
    "        else:\n",
    "            rad[i] = 1 # 点i在max_right的右边\n",
    "        \n",
    "        # 拓展rad[i]\n",
    "        while i - rad[i] >=0 and i + rad[i] < length and pre_str[i - rad[i]] == pre_str[i + rad[i]]:\n",
    "            rad[i] += 1\n",
    "        \n",
    "        # 更新max_right和mid_pos\n",
    "        if rad[i] + i -1 > max_right:\n",
    "            max_right = rad[i] + i -1\n",
    "            mid_point = i\n",
    "        \n",
    "        # 更新最长回文串的长度\n",
    "        max_len = max(rad[i], max_len)\n",
    "    return max_len - 1"
   ]
  },
  {
   "cell_type": "code",
   "execution_count": 137,
   "metadata": {},
   "outputs": [
    {
     "name": "stdout",
     "output_type": "stream",
     "text": [
      "Total Time:0.000023s\n",
      "5\n",
      "Total Time:0.000043s\n",
      "5\n",
      "Total Time:0.000015s\n",
      "4\n",
      "Total Time:0.000005s\n",
      "1\n"
     ]
    }
   ],
   "source": [
    "print(manacher('abbcbb'))\n",
    "print(manacher('ddcdabbcbbfafgag'))\n",
    "print(manacher('aaaa'))\n",
    "print(manacher('a'))"
   ]
  },
  {
   "cell_type": "code",
   "execution_count": 140,
   "metadata": {},
   "outputs": [
    {
     "data": {
      "text/plain": [
       "'b'"
      ]
     },
     "execution_count": 140,
     "metadata": {},
     "output_type": "execute_result"
    }
   ],
   "source": [
    "chr(98)"
   ]
  },
  {
   "cell_type": "code",
   "execution_count": 172,
   "metadata": {},
   "outputs": [
    {
     "name": "stdout",
     "output_type": "stream",
     "text": [
      "xhjmvhhndkdpdxaygeaayjscmcfcekdw{bfmdobkarrdtzlootyxkpa{towzbo{xycy{nnaqnrdlxjexiqybedsopbzpuinernbeaebnreniupzbposdebyqixejxldrnqann{ycyx{obzwot{apkxytoolztdrrakbodmfb{wdkecfcmcsjyaaegyaxdpdkdnhhvmjhx\n",
      "----------\n",
      "aabshucickixhikvhabblnbmoqrsrhfqzz{mtnquspsrebvyanddyhmo{qlurbiflwpedmwzgihqdpzvddqwvyfmwgbjwruvpyqhxhjmvhhndkdpdxaygeaayjscmcfcekdw{bfmdobkarrdtzlootyxkpa{towzbo{xycy{nnaqnrdlxjexiqybedsopbzpuinernbeaebnreniupzbposdebyqixejxldrnqann{ycyx{obzwot{apkxytoolztdrrakbodmfb{wdkecfcmcsjyaaegyaxdpdkdnhhvmjhxbsnwijrhnxjbkjqdvhnwdlzpmpqfdmpyeuvfjedc{kdcibqmlfkrugebjackxbtwww{wmfxszbzkcgedgsxozkmqsettilgjduhtqfvsil{ebdtjth{gppeubfvaxemfjwxndrlrbvevoifbsy{tqccmsjbulnlcziopvkfsdhhzjkxxfdwsl{gvlpdolhosyncjghvp\n"
     ]
    }
   ],
   "source": [
    "import random\n",
    "from copy import deepcopy\n",
    "\n",
    "mid_str = [chr(random.randint(97, 123)) for i in range(100)]\n",
    "pre_str = [chr(random.randint(97, 123)) for i in range(100)]\n",
    "post_str = [chr(random.randint(97, 123)) for i in range(200)]\n",
    "\n",
    "str1 = ''.join(mid_str)\n",
    "str2 = str1[::-1]\n",
    "\n",
    "mid_str = str1 + 'a' + str2\n",
    "\n",
    "string = ''.join(pre_str) + mid_str + ''.join(post_str)\n",
    "\n",
    "print(mid_str)\n",
    "print('-'*10)\n",
    "print(string)"
   ]
  },
  {
   "cell_type": "code",
   "execution_count": 173,
   "metadata": {},
   "outputs": [
    {
     "name": "stdout",
     "output_type": "stream",
     "text": [
      "Total Time:0.069387s\n"
     ]
    },
    {
     "data": {
      "text/plain": [
       "(100, 201)"
      ]
     },
     "execution_count": 173,
     "metadata": {},
     "output_type": "execute_result"
    }
   ],
   "source": [
    "brute_fore(string)"
   ]
  },
  {
   "cell_type": "code",
   "execution_count": 174,
   "metadata": {},
   "outputs": [
    {
     "name": "stdout",
     "output_type": "stream",
     "text": [
      "Total Time:0.000334s\n"
     ]
    },
    {
     "data": {
      "text/plain": [
       "'xhjmvhhndkdpdxaygeaayjscmcfcekdw{bfmdobkarrdtzlootyxkpa{towzbo{xycy{nnaqnrdlxjexiqybedsopbzpuinernbeaebnreniupzbposdebyqixejxldrnqann{ycyx{obzwot{apkxytoolztdrrakbodmfb{wdkecfcmcsjyaaegyaxdpdkdnhhvmjhx'"
      ]
     },
     "execution_count": 174,
     "metadata": {},
     "output_type": "execute_result"
    }
   ],
   "source": [
    "center_extend(string)"
   ]
  },
  {
   "cell_type": "code",
   "execution_count": 175,
   "metadata": {},
   "outputs": [
    {
     "name": "stdout",
     "output_type": "stream",
     "text": [
      "Total Time:0.001298s\n"
     ]
    },
    {
     "data": {
      "text/plain": [
       "201"
      ]
     },
     "execution_count": 175,
     "metadata": {},
     "output_type": "execute_result"
    }
   ],
   "source": [
    "manacher(string)"
   ]
  },
  {
   "cell_type": "markdown",
   "metadata": {},
   "source": [
    "## 9. Dijkstra（迪杰斯特拉算法）"
   ]
  },
  {
   "cell_type": "markdown",
   "metadata": {},
   "source": [
    "对于如下一个五向带权连通图，求一个顶点到剩余其它顶点的最短路径。  \n",
    "\n",
    "<img src='./pictures/54_ Dijkstra.jpg' style='zoom:50%'/>"
   ]
  },
  {
   "cell_type": "markdown",
   "metadata": {},
   "source": [
    "Dijkstra算法的核心是维护三个数组：  \n",
    "- **visited数组**：可以将顶点标记为已被访问的和未被访问的；\n",
    "- **path数组**：维护起点到任意顶点的路径；\n",
    "- **distance数组**：维护任意时刻各顶点到起点的距离。\n",
    "  \n",
    "实现步骤：\n",
    "1. 将图转化为一个图邻接矩阵；\n",
    "2. 初始化visited、path、distance三数组；\n",
    "3. 对剩余n-1个顶点进行探寻：\n",
    "    - 从distance中找出当前未被探寻(visit=false)的，距起点最近的顶点；\n",
    "    - 更新visited、distance、path数组\n",
    "    - 以当前顶点为中转点，更新剩余未被访问顶点到源点的距离，更新原则：\n",
    "        - 未被访问的顶点；\n",
    "        - 中转点 + 中转点到目标点的距离 < 源点到目标点的距离\n",
    "  \n",
    "<img src='./pictures/55_Dijkstra_步骤分解.png' style='zoom:55%'/>"
   ]
  },
  {
   "cell_type": "markdown",
   "metadata": {},
   "source": [
    "**注意事项：**  \n",
    "1. 不能出现负权值边；\n",
    "2. 时间复杂度为$O(n^{2})$"
   ]
  },
  {
   "cell_type": "code",
   "execution_count": 11,
   "metadata": {},
   "outputs": [],
   "source": [
    "from copy import deepcopy\n",
    "inf = float('inf')\n",
    "\n",
    "def dijkstra(weight, start):\n",
    "    count = len(weight)\n",
    "    \n",
    "    # 定义visited、distance、path三个数组\n",
    "    visited = [False for _ in range(count)]\n",
    "    path = [[start] for _ in range(count)]\n",
    "    distance = [inf for _ in range(count)]\n",
    "    \n",
    "    # 根据起点信息初始化visited、distance\n",
    "    visited[start] = True\n",
    "    for i in range(count):\n",
    "        distance[i] = weight[start][i]\n",
    "    \n",
    "    # 循环更新三个数组\n",
    "    for _ in range(1, count): # 循环n-1次\n",
    "        # 寻找最近的未标记节点\n",
    "        mdis = inf\n",
    "        midx = 0\n",
    "        for idx, dis in enumerate(distance):\n",
    "            if dis != 0 and dis < mdis and visited[idx] == False:\n",
    "                mdis = dis\n",
    "                midx = idx\n",
    "        \n",
    "        # 更新visited和path和当前顶点的distance\n",
    "        visited[midx] = True\n",
    "        distance[midx] = mdis\n",
    "        path[midx].append(midx)\n",
    "        \n",
    "        # 循环更新起始顶点到剩余顶点的distance\n",
    "        for idx, val in enumerate(visited):\n",
    "            if val == True:\n",
    "                continue\n",
    "            elif mdis + weight[midx][idx] < distance[idx] and weight[midx][idx] != inf:\n",
    "                distance[idx] = mdis + weight[midx][idx]\n",
    "                path[idx] = deepcopy(path[midx])\n",
    "        \n",
    "    return distance, path"
   ]
  },
  {
   "cell_type": "code",
   "execution_count": 14,
   "metadata": {},
   "outputs": [
    {
     "name": "stdout",
     "output_type": "stream",
     "text": [
      "[22, 10, 0, 3, 5, 6, 13]\n",
      "[[2, 5, 0], [2, 1], [2], [2, 3], [2, 4], [2, 5], [2, 4, 6]]\n"
     ]
    }
   ],
   "source": [
    "weight = [\n",
    "    [0, 12, inf, inf, inf, 16, 14],\n",
    "    [12, 0, 10, inf, inf, 7, inf],\n",
    "    [inf, 10, 0, 3, 5, 6, inf],\n",
    "    [inf, inf, 3, 0, 4, inf, inf],\n",
    "    [inf, inf, 5, 4, 0, 2, 8],\n",
    "    [16, 7, 6, inf, 2, 0, 9],\n",
    "    [14, inf, inf, inf, 8, 9, 0]\n",
    "]\n",
    "distance, path = dijkstra(weight, start=2)\n",
    "print(distance)\n",
    "print(path)"
   ]
  },
  {
   "cell_type": "markdown",
   "metadata": {},
   "source": [
    "## 10. Floyd算法"
   ]
  },
  {
   "cell_type": "markdown",
   "metadata": {},
   "source": [
    "**解决的问题：**  \n",
    "\n",
    "求一个带权有向图（Weighted Directed Graph）的<font color=red>任意两点</font>的最短距离的计算，运用了动态规划的思想，<font color=red>算法的时间复杂度为$O(V^{3})$，空间复杂度为$O(V^{2})$。</font>  \n",
    "\n",
    "<img src='./pictures/55_Floyd求解问题.png' style='zoom:50%'/>"
   ]
  },
  {
   "cell_type": "markdown",
   "metadata": {},
   "source": [
    "**算法思想：**  \n",
    "从任意节点$i$到任意节点$j$的最短路径不外乎有两种可能：  \n",
    "1. 直接从$i$到$j$；\n",
    "2. 从$i$经过若干中间节点$k$到达$j$。  \n",
    "  \n",
    "所以我们假设$Dis(i,j)$为节点$i$到节点$j$的最短路径的距离，对于每一个节点$k$, 我们检查$Dis(i,k) + Dis(k,j) < Dis(i,j)$是否成立，如果成立，证明从$i \\rightarrow k \\rightarrow j$比$i \\rightarrow j$路径更短，我们便设置$Dis(i,j) = Dis(i,k) + Dis(k,j)$，这样一来，当我们遍历往所有节点$k$，$Dis(i,j)$中记录的便是$i \\rightarrow j$最短路径的距离。  \n",
    "  \n",
    "  \n",
    "**算法关键：**  \n",
    "```\n",
    "for(k=0;k<n;k++)//中转站0~k\n",
    "        for(i=0;i<n;i++) //i为起点\n",
    "            for(j=0;j<n;j++) //j为终点\n",
    "                if(d[i][j]>d[i][k]+d[k][j])//松弛操作 \n",
    "                     d[i][j]=d[i][k]+d[k][j]; \n",
    "```"
   ]
  },
  {
   "cell_type": "code",
   "execution_count": 34,
   "metadata": {},
   "outputs": [],
   "source": [
    "inf = 99999999 # 表示无穷远距离\n",
    "\n",
    "def floyd(weight):\n",
    "    vex_num = len(weight)\n",
    "    \n",
    "    # 定义路径矩阵、距离矩阵\n",
    "    path = [[-1 for _ in range(vex_num)] for _ in range(vex_num)]\n",
    "    \n",
    "    # 将顶点i到它自身的路径标记为它本身\n",
    "    for i in range(vex_num):\n",
    "        path[i][i] = i\n",
    "    \n",
    "    # 以任意顶点为中转点，更新所有两点之间的距离。\n",
    "    for k in range(vex_num): # 中间点\n",
    "        for i in range(vex_num): # 起点\n",
    "            for j in range(vex_num): # 终点\n",
    "                if weight[i][k] + weight[k][j] < weight[i][j]:\n",
    "                    weight[i][j] = weight[i][k] + weight[k][j]\n",
    "                    path[i][j] = [i,k,j]\n",
    "    return weight, path"
   ]
  },
  {
   "cell_type": "code",
   "execution_count": 35,
   "metadata": {},
   "outputs": [
    {
     "name": "stdout",
     "output_type": "stream",
     "text": [
      "[0, 3, 1, 2]\n",
      "[99999999, 0, 99999999, 99999999]\n",
      "[99999999, 2, 0, 1]\n",
      "[99999999, 1, 99999999, 0]\n",
      "\n",
      "[0, [0, 3, 1], -1, [0, 2, 3]]\n",
      "[-1, 1, -1, -1]\n",
      "[-1, [2, 3, 1], 2, -1]\n",
      "[-1, -1, -1, 3]\n"
     ]
    }
   ],
   "source": [
    "weight = [\n",
    "    [0, 6, 1, inf],\n",
    "    [inf, 0, inf, inf],\n",
    "    [inf, 4, 0, 1],\n",
    "    [inf, 1, inf, 0]\n",
    "]\n",
    "\n",
    "distance, path = floyd(weight)\n",
    "for dis in distance:\n",
    "    print(dis)\n",
    "print()\n",
    "for p in path:\n",
    "    print(p)"
   ]
  },
  {
   "cell_type": "markdown",
   "metadata": {},
   "source": [
    "### 10.1 Dijkstra和Floyd算法比较"
   ]
  },
  {
   "cell_type": "markdown",
   "metadata": {},
   "source": [
    "| <img width=200/>Dijkstra | <img width=200/>Floyd |\n",
    "| :--- | :--- |\n",
    "| 不能处理负权图 | 能处理负权图 |\n",
    "| 处理单源最短路径 | 处理多源最短路径 |\n",
    "| 时间复杂度$O(n^{2})$ | 时间复杂度$O(n^{3})$ | \n",
    "  \n",
    "  \n",
    "其实，也可以对每一个顶点执行一遍Dijkstra算法得到任意两点之间的距离，时间复杂度也是$O(n^{3})$；  \n",
    "对于稀疏的图，n次Dijkstra更出色；而对于稠密的图，可以使用Floyd算法。"
   ]
  }
 ],
 "metadata": {
  "kernelspec": {
   "display_name": "Python [conda env:root] *",
   "language": "python",
   "name": "conda-root-py"
  },
  "language_info": {
   "codemirror_mode": {
    "name": "ipython",
    "version": 3
   },
   "file_extension": ".py",
   "mimetype": "text/x-python",
   "name": "python",
   "nbconvert_exporter": "python",
   "pygments_lexer": "ipython3",
   "version": "3.7.1"
  }
 },
 "nbformat": 4,
 "nbformat_minor": 2
}
